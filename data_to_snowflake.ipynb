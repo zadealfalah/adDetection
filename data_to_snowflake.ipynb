{
 "cells": [
  {
   "cell_type": "code",
   "execution_count": 3,
   "metadata": {},
   "outputs": [],
   "source": [
    "import zipfile\n",
    "import os"
   ]
  },
  {
   "cell_type": "code",
   "execution_count": 2,
   "metadata": {},
   "outputs": [],
   "source": [
    "with zipfile.ZipFile(\"data/adtracking.zip\", \"r\") as zip_ref:\n",
    "    zip_ref.extractall(\"data\")"
   ]
  },
  {
   "cell_type": "code",
   "execution_count": 6,
   "metadata": {},
   "outputs": [
    {
     "name": "stdout",
     "output_type": "stream",
     "text": [
      "adtracking.zip\n"
     ]
    }
   ],
   "source": [
    "for file in os.listdir(\"data\"):\n",
    "    if file.endswith(\".zip\"):\n",
    "        print(file)"
   ]
  },
  {
   "cell_type": "code",
   "execution_count": 1,
   "metadata": {},
   "outputs": [],
   "source": [
    "import os\n",
    "import json\n",
    "import pandas as pd \n",
    "import snowflake.connector\n",
    "from snowflake.connector.pandas_tools import write_pandas"
   ]
  },
  {
   "cell_type": "code",
   "execution_count": 2,
   "metadata": {},
   "outputs": [],
   "source": [
    "sf_account_id = \"\"\n",
    "sf_username = \"\"\n",
    "sf_password = \"\""
   ]
  },
  {
   "cell_type": "code",
   "execution_count": 3,
   "metadata": {},
   "outputs": [],
   "source": [
    "# connect to Snowflake account\n",
    "conn = snowflake.connector.connect(user=sf_username,\n",
    "                                   password=sf_password,\n",
    "                                   account=sf_account_id,\n",
    "                                   protocol=\"https\")"
   ]
  },
  {
   "cell_type": "code",
   "execution_count": 4,
   "metadata": {},
   "outputs": [],
   "source": [
    "train_df = pd.read_csv('data/train.csv')\n",
    "test_df = pd.read_csv(\"data/test.csv\")"
   ]
  },
  {
   "cell_type": "code",
   "execution_count": 5,
   "metadata": {},
   "outputs": [],
   "source": [
    "dwh = \"amazon_sagemake_w_snowflake_as_datasource\"\n",
    "db = \"adtracking\"\n",
    "schema = \"adtracking_schema\"\n",
    "table_training = \"adtracking_clicks_train\"\n",
    "table_testing = \"adtracking_clicks_test\""
   ]
  },
  {
   "cell_type": "code",
   "execution_count": 6,
   "metadata": {},
   "outputs": [
    {
     "data": {
      "text/plain": [
       "<snowflake.connector.cursor.SnowflakeCursor at 0x1c33475dc00>"
      ]
     },
     "execution_count": 6,
     "metadata": {},
     "output_type": "execute_result"
    }
   ],
   "source": [
    "conn.cursor().execute(f\"CREATE WAREHOUSE IF NOT EXISTS {dwh}\")\n",
    "conn.cursor().execute(f\"USE WAREHOUSE {dwh}\")\n",
    "conn.cursor().execute(f\"CREATE DATABASE IF NOT EXISTS {db}\")\n",
    "conn.cursor().execute(f\"USE DATABASE {db}\")"
   ]
  },
  {
   "cell_type": "code",
   "execution_count": 7,
   "metadata": {},
   "outputs": [
    {
     "data": {
      "text/html": [
       "<div>\n",
       "<style scoped>\n",
       "    .dataframe tbody tr th:only-of-type {\n",
       "        vertical-align: middle;\n",
       "    }\n",
       "\n",
       "    .dataframe tbody tr th {\n",
       "        vertical-align: top;\n",
       "    }\n",
       "\n",
       "    .dataframe thead th {\n",
       "        text-align: right;\n",
       "    }\n",
       "</style>\n",
       "<table border=\"1\" class=\"dataframe\">\n",
       "  <thead>\n",
       "    <tr style=\"text-align: right;\">\n",
       "      <th></th>\n",
       "      <th>ip</th>\n",
       "      <th>app</th>\n",
       "      <th>device</th>\n",
       "      <th>os</th>\n",
       "      <th>channel</th>\n",
       "      <th>click_time</th>\n",
       "      <th>attributed_time</th>\n",
       "      <th>is_attributed</th>\n",
       "    </tr>\n",
       "  </thead>\n",
       "  <tbody>\n",
       "    <tr>\n",
       "      <th>0</th>\n",
       "      <td>83230</td>\n",
       "      <td>3</td>\n",
       "      <td>1</td>\n",
       "      <td>13</td>\n",
       "      <td>379</td>\n",
       "      <td>2017-11-06 14:32:21</td>\n",
       "      <td>NaN</td>\n",
       "      <td>0</td>\n",
       "    </tr>\n",
       "    <tr>\n",
       "      <th>1</th>\n",
       "      <td>17357</td>\n",
       "      <td>3</td>\n",
       "      <td>1</td>\n",
       "      <td>19</td>\n",
       "      <td>379</td>\n",
       "      <td>2017-11-06 14:33:34</td>\n",
       "      <td>NaN</td>\n",
       "      <td>0</td>\n",
       "    </tr>\n",
       "    <tr>\n",
       "      <th>2</th>\n",
       "      <td>35810</td>\n",
       "      <td>3</td>\n",
       "      <td>1</td>\n",
       "      <td>13</td>\n",
       "      <td>379</td>\n",
       "      <td>2017-11-06 14:34:12</td>\n",
       "      <td>NaN</td>\n",
       "      <td>0</td>\n",
       "    </tr>\n",
       "    <tr>\n",
       "      <th>3</th>\n",
       "      <td>45745</td>\n",
       "      <td>14</td>\n",
       "      <td>1</td>\n",
       "      <td>13</td>\n",
       "      <td>478</td>\n",
       "      <td>2017-11-06 14:34:52</td>\n",
       "      <td>NaN</td>\n",
       "      <td>0</td>\n",
       "    </tr>\n",
       "    <tr>\n",
       "      <th>4</th>\n",
       "      <td>161007</td>\n",
       "      <td>3</td>\n",
       "      <td>1</td>\n",
       "      <td>13</td>\n",
       "      <td>379</td>\n",
       "      <td>2017-11-06 14:35:08</td>\n",
       "      <td>NaN</td>\n",
       "      <td>0</td>\n",
       "    </tr>\n",
       "  </tbody>\n",
       "</table>\n",
       "</div>"
      ],
      "text/plain": [
       "       ip  app  device  os  channel           click_time attributed_time  \\\n",
       "0   83230    3       1  13      379  2017-11-06 14:32:21             NaN   \n",
       "1   17357    3       1  19      379  2017-11-06 14:33:34             NaN   \n",
       "2   35810    3       1  13      379  2017-11-06 14:34:12             NaN   \n",
       "3   45745   14       1  13      478  2017-11-06 14:34:52             NaN   \n",
       "4  161007    3       1  13      379  2017-11-06 14:35:08             NaN   \n",
       "\n",
       "   is_attributed  \n",
       "0              0  \n",
       "1              0  \n",
       "2              0  \n",
       "3              0  \n",
       "4              0  "
      ]
     },
     "execution_count": 7,
     "metadata": {},
     "output_type": "execute_result"
    }
   ],
   "source": [
    "train_df.head()"
   ]
  },
  {
   "cell_type": "code",
   "execution_count": 8,
   "metadata": {},
   "outputs": [
    {
     "data": {
      "text/html": [
       "<div>\n",
       "<style scoped>\n",
       "    .dataframe tbody tr th:only-of-type {\n",
       "        vertical-align: middle;\n",
       "    }\n",
       "\n",
       "    .dataframe tbody tr th {\n",
       "        vertical-align: top;\n",
       "    }\n",
       "\n",
       "    .dataframe thead th {\n",
       "        text-align: right;\n",
       "    }\n",
       "</style>\n",
       "<table border=\"1\" class=\"dataframe\">\n",
       "  <thead>\n",
       "    <tr style=\"text-align: right;\">\n",
       "      <th></th>\n",
       "      <th>click_id</th>\n",
       "      <th>ip</th>\n",
       "      <th>app</th>\n",
       "      <th>device</th>\n",
       "      <th>os</th>\n",
       "      <th>channel</th>\n",
       "      <th>click_time</th>\n",
       "    </tr>\n",
       "  </thead>\n",
       "  <tbody>\n",
       "    <tr>\n",
       "      <th>0</th>\n",
       "      <td>0</td>\n",
       "      <td>5744</td>\n",
       "      <td>9</td>\n",
       "      <td>1</td>\n",
       "      <td>3</td>\n",
       "      <td>107</td>\n",
       "      <td>2017-11-10 04:00:00</td>\n",
       "    </tr>\n",
       "    <tr>\n",
       "      <th>1</th>\n",
       "      <td>1</td>\n",
       "      <td>119901</td>\n",
       "      <td>9</td>\n",
       "      <td>1</td>\n",
       "      <td>3</td>\n",
       "      <td>466</td>\n",
       "      <td>2017-11-10 04:00:00</td>\n",
       "    </tr>\n",
       "    <tr>\n",
       "      <th>2</th>\n",
       "      <td>2</td>\n",
       "      <td>72287</td>\n",
       "      <td>21</td>\n",
       "      <td>1</td>\n",
       "      <td>19</td>\n",
       "      <td>128</td>\n",
       "      <td>2017-11-10 04:00:00</td>\n",
       "    </tr>\n",
       "    <tr>\n",
       "      <th>3</th>\n",
       "      <td>3</td>\n",
       "      <td>78477</td>\n",
       "      <td>15</td>\n",
       "      <td>1</td>\n",
       "      <td>13</td>\n",
       "      <td>111</td>\n",
       "      <td>2017-11-10 04:00:00</td>\n",
       "    </tr>\n",
       "    <tr>\n",
       "      <th>4</th>\n",
       "      <td>4</td>\n",
       "      <td>123080</td>\n",
       "      <td>12</td>\n",
       "      <td>1</td>\n",
       "      <td>13</td>\n",
       "      <td>328</td>\n",
       "      <td>2017-11-10 04:00:00</td>\n",
       "    </tr>\n",
       "  </tbody>\n",
       "</table>\n",
       "</div>"
      ],
      "text/plain": [
       "   click_id      ip  app  device  os  channel           click_time\n",
       "0         0    5744    9       1   3      107  2017-11-10 04:00:00\n",
       "1         1  119901    9       1   3      466  2017-11-10 04:00:00\n",
       "2         2   72287   21       1  19      128  2017-11-10 04:00:00\n",
       "3         3   78477   15       1  13      111  2017-11-10 04:00:00\n",
       "4         4  123080   12       1  13      328  2017-11-10 04:00:00"
      ]
     },
     "execution_count": 8,
     "metadata": {},
     "output_type": "execute_result"
    }
   ],
   "source": [
    "test_df.head()"
   ]
  },
  {
   "cell_type": "code",
   "execution_count": 9,
   "metadata": {},
   "outputs": [],
   "source": [
    "test_df['click_time'] = pd.to_datetime(test_df['click_time'])\n",
    "train_df['click_time'] = pd.to_datetime(train_df['click_time'])"
   ]
  },
  {
   "cell_type": "code",
   "execution_count": 10,
   "metadata": {},
   "outputs": [],
   "source": [
    "train_df['click_time'] = pd.to_datetime(train_df['click_time'])"
   ]
  },
  {
   "cell_type": "code",
   "execution_count": 11,
   "metadata": {},
   "outputs": [
    {
     "data": {
      "text/plain": [
       "<snowflake.connector.cursor.SnowflakeCursor at 0x1c3345493c0>"
      ]
     },
     "execution_count": 11,
     "metadata": {},
     "output_type": "execute_result"
    }
   ],
   "source": [
    "# connect to Snowflake Table schema\n",
    "conn.cursor().execute(f\"CREATE SCHEMA IF NOT EXISTS {schema}\")\n",
    "conn.cursor().execute(f\"USE SCHEMA {schema}\")"
   ]
  },
  {
   "cell_type": "code",
   "execution_count": 13,
   "metadata": {},
   "outputs": [],
   "source": [
    "def table_creation(df, table_name, conn=conn, db=db, schema=schema):\n",
    "    create_table_sql = f\"CREATE TABLE IF NOT EXISTS {db}.{schema}.{table_name}\\n (\"\n",
    "\n",
    "    df.rename(columns=str.upper, inplace=True)\n",
    "    df.columns\n",
    "\n",
    "    # iterating through the columns.  Note that we only have int64, object, and datetime64[ns].  Others for completeness\n",
    "    for col in df.columns:\n",
    "        column_name = col.upper()\n",
    "\n",
    "        if (df[col].dtype.name == \"int\" or df[col].dtype.name == \"int64\"):\n",
    "            create_table_sql = create_table_sql + column_name + \" int\"\n",
    "        elif df[col].dtype.name == \"object\":\n",
    "            create_table_sql = create_table_sql + column_name + \" varchar(16777216)\"\n",
    "        elif df[col].dtype.name == \"datetime64[ns]\":\n",
    "            create_table_sql = create_table_sql + column_name + \" datetime\"\n",
    "        elif df[col].dtype.name == \"float64\":\n",
    "            create_table_sql = create_table_sql + column_name + \" float8\"\n",
    "        elif df[col].dtype.name == \"bool\":\n",
    "            create_table_sql = create_table_sql + column_name + \" boolean\"\n",
    "        else:\n",
    "            create_table_sql = create_table_sql + column_name + \" varchar(16777216)\"\n",
    "\n",
    "        # deciding next steps. Either column is not the last column (add comma) else end create_tbl_statement\n",
    "        if df[col].name != df.columns[-1]:\n",
    "            create_table_sql = create_table_sql + \",\\n\"\n",
    "        else:\n",
    "            create_table_sql = create_table_sql + \")\"\n",
    "\n",
    "            # execute the SQL statement to create the table\n",
    "            print(f\"create_table_sql={create_table_sql}\")\n",
    "            conn.cursor().execute(create_table_sql)  \n",
    "    print(f\"snowflake_table={table_name}\")\n",
    "    conn.cursor().execute(f'TRUNCATE TABLE IF EXISTS {table_name}')    "
   ]
  },
  {
   "cell_type": "code",
   "execution_count": 14,
   "metadata": {},
   "outputs": [
    {
     "name": "stdout",
     "output_type": "stream",
     "text": [
      "create_table_sql=CREATE TABLE IF NOT EXISTS adtracking.adtracking_schema.adtracking_clicks_test\n",
      " (CLICK_ID int,\n",
      "IP int,\n",
      "APP int,\n",
      "DEVICE int,\n",
      "OS int,\n",
      "CHANNEL int,\n",
      "CLICK_TIME datetime)\n",
      "snowflake_table=adtracking_clicks_test\n"
     ]
    }
   ],
   "source": [
    "table_creation(test_df, table_testing)"
   ]
  },
  {
   "cell_type": "code",
   "execution_count": 17,
   "metadata": {},
   "outputs": [
    {
     "name": "stdout",
     "output_type": "stream",
     "text": [
      "create_table_sql=CREATE TABLE IF NOT EXISTS adtracking.adtracking_schema.adtracking_clicks_train\n",
      " (IP int,\n",
      "APP int,\n",
      "DEVICE int,\n",
      "OS int,\n",
      "CHANNEL int,\n",
      "CLICK_TIME datetime,\n",
      "ATTRIBUTED_TIME varchar(16777216),\n",
      "IS_ATTRIBUTED int)\n",
      "snowflake_table=adtracking_clicks_train\n"
     ]
    }
   ],
   "source": [
    "table_creation(train_df, table_training)"
   ]
  },
  {
   "cell_type": "code",
   "execution_count": 19,
   "metadata": {},
   "outputs": [
    {
     "name": "stdout",
     "output_type": "stream",
     "text": [
      "database=adtracking, schema=adtracking_schema, snowflake_table=adtracking_clicks_train\n"
     ]
    },
    {
     "data": {
      "text/plain": [
       "(True,\n",
       " 1,\n",
       " 184903890,\n",
       " [('lcfrstokax/file0.txt',\n",
       "   'LOADED',\n",
       "   184903890,\n",
       "   184903890,\n",
       "   1,\n",
       "   0,\n",
       "   None,\n",
       "   None,\n",
       "   None,\n",
       "   None)])"
      ]
     },
     "execution_count": 19,
     "metadata": {},
     "output_type": "execute_result"
    }
   ],
   "source": [
    "print(f\"database={db}, schema={schema}, snowflake_table={table_training}\")\n",
    "# Write the data from the DataFrame to the Snowflake table.\n",
    "write_pandas(conn=conn,\n",
    "            df=train_df,\n",
    "            table_name=table_training.upper(),\n",
    "            database=db.upper(),\n",
    "            schema=schema.upper())"
   ]
  },
  {
   "cell_type": "code",
   "execution_count": 20,
   "metadata": {},
   "outputs": [],
   "source": [
    "# Had errors due to pyarrow versioning, can use below for both tables if needed in the future\n",
    "\n",
    "# for table_name, df in zip([table_training, table_testing], [train_df, test_df]):\n",
    "#     print(f\"database={db}, schema={schema}, snowflake_table={table_name}\")\n",
    "#     # Write the data from the DataFrame to the Snowflake table.\n",
    "#     write_pandas(conn=conn,\n",
    "#                 df=df,\n",
    "#                 table_name=table_name.upper(),\n",
    "#                 database=db.upper(),\n",
    "#                 schema=schema.upper())"
   ]
  },
  {
   "cell_type": "code",
   "execution_count": null,
   "metadata": {},
   "outputs": [],
   "source": [
    "conn.close()"
   ]
  },
  {
   "cell_type": "code",
   "execution_count": 25,
   "metadata": {},
   "outputs": [],
   "source": [
    "for file in os.listdir(\"data\"):\n",
    "    if file.endswith(\".zip\"):\n",
    "        continue\n",
    "    else:\n",
    "        os.remove(fr\"data/{file}\")"
   ]
  },
  {
   "cell_type": "code",
   "execution_count": null,
   "metadata": {},
   "outputs": [],
   "source": []
  }
 ],
 "metadata": {
  "kernelspec": {
   "display_name": ".venv",
   "language": "python",
   "name": "python3"
  },
  "language_info": {
   "codemirror_mode": {
    "name": "ipython",
    "version": 3
   },
   "file_extension": ".py",
   "mimetype": "text/x-python",
   "name": "python",
   "nbconvert_exporter": "python",
   "pygments_lexer": "ipython3",
   "version": "3.10.14"
  }
 },
 "nbformat": 4,
 "nbformat_minor": 2
}
