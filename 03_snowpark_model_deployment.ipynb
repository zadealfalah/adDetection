{
 "cells": [
  {
   "cell_type": "markdown",
   "metadata": {},
   "source": [
    "## Imports and Connections"
   ]
  },
  {
   "cell_type": "code",
   "execution_count": 90,
   "metadata": {},
   "outputs": [],
   "source": [
    "from snowflake.snowpark.session import Session\n",
    "from snowflake.snowpark.window import Window\n",
    "from snowflake.ml.modeling.preprocessing import *\n",
    "from snowflake.ml.modeling.impute import *\n",
    "import snowflake.snowpark.types as T\n",
    "import snowflake.snowpark.functions as F\n",
    "\n",
    "import json\n",
    "import pandas as pd\n",
    "import matplotlib.pyplot as plt\n",
    "import numpy as np\n",
    "import gc\n",
    "import pickle"
   ]
  },
  {
   "cell_type": "code",
   "execution_count": 91,
   "metadata": {},
   "outputs": [],
   "source": [
    "with open('creds.json') as f:\n",
    "    connection_parameters = json.load(f)"
   ]
  },
  {
   "cell_type": "code",
   "execution_count": 92,
   "metadata": {},
   "outputs": [
    {
     "name": "stdout",
     "output_type": "stream",
     "text": [
      "Current Database and schema: \"ADTRACKING\".\"ADTRACKING_SCHEMA\"\n",
      "Current Warehouse: \"AMAZON_SAGEMAKE_W_SNOWFLAKE_AS_DATASOURCE\"\n"
     ]
    }
   ],
   "source": [
    "session = Session.builder.configs(connection_parameters).create()\n",
    "print(f\"Current Database and schema: {session.get_fully_qualified_current_schema()}\")\n",
    "print(f\"Current Warehouse: {session.get_current_warehouse()}\")"
   ]
  },
  {
   "cell_type": "code",
   "execution_count": 93,
   "metadata": {},
   "outputs": [],
   "source": [
    "train_sdf = session.table(\"FULL_TRAINING_DATA\")"
   ]
  },
  {
   "cell_type": "code",
   "execution_count": 8,
   "metadata": {},
   "outputs": [],
   "source": [
    "# train_sdf.columns"
   ]
  },
  {
   "cell_type": "code",
   "execution_count": 5,
   "metadata": {},
   "outputs": [],
   "source": [
    "count_day6 = train_sdf.filter(F.col(\"DAY\") == 6).count()\n",
    "count_day7 = train_sdf.filter(F.col(\"DAY\") == 7).count()\n",
    "count_day8 = train_sdf.filter(F.col(\"DAY\") == 8).count()\n",
    "count_day9 = train_sdf.filter(F.col(\"DAY\") == 9).count()\n",
    "count_total = train_sdf.count()"
   ]
  },
  {
   "cell_type": "code",
   "execution_count": 6,
   "metadata": {},
   "outputs": [
    {
     "name": "stdout",
     "output_type": "stream",
     "text": [
      "There are 913692 rows in our training data. \n",
      "4.34% In day 6 \n",
      "32.93% In day 7 \n",
      "33.75% In day 8 \n",
      "28.98% In day 9 \n",
      "\n"
     ]
    }
   ],
   "source": [
    "print(f\"There are {count_total} rows in our training data. \\n\"\n",
    "      f\"{np.round(count_day6/count_total*100, 2)}% In day 6 \\n\"\n",
    "      f\"{np.round(count_day7/count_total*100, 2)}% In day 7 \\n\"\n",
    "      f\"{np.round(count_day8/count_total*100, 2)}% In day 8 \\n\"\n",
    "      f\"{np.round(count_day9/count_total*100, 2)}% In day 9 \\n\")"
   ]
  },
  {
   "cell_type": "code",
   "execution_count": 7,
   "metadata": {},
   "outputs": [],
   "source": [
    "feature_cols = train_sdf.columns\n",
    "# Remove feature columns\n",
    "feature_cols.remove(\"IS_ATTRIBUTED\")\n",
    "feature_cols.remove(\"ATTRIBUTED_TIME\")\n",
    "# Remove since we took day/hour/min as separate columns\n",
    "feature_cols.remove(\"CLICK_TIME\")\n",
    "\n",
    "target_col = \"IS_ATTRIBUTED\""
   ]
  },
  {
   "cell_type": "markdown",
   "metadata": {},
   "source": [
    "We want to try a few different things in this notebook.  For example:\n",
    "\n",
    "- Snowpark vs. Python implementation\n",
    "- XGBoost vs. LGB\n",
    "- Stratified vs. By day (custom) cross validation\n",
    "\n",
    "We'll do our best to get the combinations of these done before our deadline, and leave the rest for future work."
   ]
  },
  {
   "cell_type": "markdown",
   "metadata": {},
   "source": [
    "## "
   ]
  },
  {
   "cell_type": "markdown",
   "metadata": {},
   "source": [
    "## Python implementation"
   ]
  },
  {
   "cell_type": "code",
   "execution_count": 40,
   "metadata": {},
   "outputs": [],
   "source": [
    "import xgboost as xgb\n",
    "from sklearn.model_selection import StratifiedKFold\n",
    "from skopt import BayesSearchCV"
   ]
  },
  {
   "cell_type": "markdown",
   "metadata": {},
   "source": [
    "### Train XGBoost Model in Python with stratified cv"
   ]
  },
  {
   "cell_type": "code",
   "execution_count": 20,
   "metadata": {},
   "outputs": [],
   "source": [
    "train_df = train_sdf.to_pandas()"
   ]
  },
  {
   "cell_type": "code",
   "execution_count": 21,
   "metadata": {},
   "outputs": [
    {
     "data": {
      "text/html": [
       "<div>\n",
       "<style scoped>\n",
       "    .dataframe tbody tr th:only-of-type {\n",
       "        vertical-align: middle;\n",
       "    }\n",
       "\n",
       "    .dataframe tbody tr th {\n",
       "        vertical-align: top;\n",
       "    }\n",
       "\n",
       "    .dataframe thead th {\n",
       "        text-align: right;\n",
       "    }\n",
       "</style>\n",
       "<table border=\"1\" class=\"dataframe\">\n",
       "  <thead>\n",
       "    <tr style=\"text-align: right;\">\n",
       "      <th></th>\n",
       "      <th>IP</th>\n",
       "      <th>APP</th>\n",
       "      <th>DEVICE</th>\n",
       "      <th>OS</th>\n",
       "      <th>CHANNEL</th>\n",
       "      <th>CLICK_TIME</th>\n",
       "      <th>ATTRIBUTED_TIME</th>\n",
       "      <th>IS_ATTRIBUTED</th>\n",
       "      <th>DAY</th>\n",
       "      <th>HOUR</th>\n",
       "      <th>...</th>\n",
       "      <th>IP_APP_DEVICE_OS_NEXTCLICK</th>\n",
       "      <th>IP_APP_DEVICE_CHANNEL_NEXTCLICK</th>\n",
       "      <th>IP_APP_OS_CHANNEL_NEXTCLICK</th>\n",
       "      <th>IP_DEVICE_OS_CHANNEL_NEXTCLICK</th>\n",
       "      <th>IP_APP_DEVICE_OS_CHANNEL_NEXTCLICK</th>\n",
       "      <th>IP_DAY_HOUR_COUNT_CHANNEL</th>\n",
       "      <th>IP_APP_COUNT_CHANNEL</th>\n",
       "      <th>IP_APP_OS_COUNT_CHANNEL</th>\n",
       "      <th>IP_APP_OS_VAR_HOUR</th>\n",
       "      <th>IP_NUNIQUE_APP</th>\n",
       "    </tr>\n",
       "  </thead>\n",
       "  <tbody>\n",
       "    <tr>\n",
       "      <th>0</th>\n",
       "      <td>151462</td>\n",
       "      <td>26</td>\n",
       "      <td>1</td>\n",
       "      <td>19</td>\n",
       "      <td>266</td>\n",
       "      <td>2017-11-07 07:33:18</td>\n",
       "      <td>NaT</td>\n",
       "      <td>0</td>\n",
       "      <td>7</td>\n",
       "      <td>7</td>\n",
       "      <td>...</td>\n",
       "      <td>NaN</td>\n",
       "      <td>NaN</td>\n",
       "      <td>NaN</td>\n",
       "      <td>NaN</td>\n",
       "      <td>NaN</td>\n",
       "      <td>1</td>\n",
       "      <td>1</td>\n",
       "      <td>1</td>\n",
       "      <td>NaN</td>\n",
       "      <td>2</td>\n",
       "    </tr>\n",
       "    <tr>\n",
       "      <th>1</th>\n",
       "      <td>249327</td>\n",
       "      <td>14</td>\n",
       "      <td>1</td>\n",
       "      <td>9</td>\n",
       "      <td>349</td>\n",
       "      <td>2017-11-09 09:08:21</td>\n",
       "      <td>NaT</td>\n",
       "      <td>0</td>\n",
       "      <td>9</td>\n",
       "      <td>9</td>\n",
       "      <td>...</td>\n",
       "      <td>NaN</td>\n",
       "      <td>NaN</td>\n",
       "      <td>NaN</td>\n",
       "      <td>NaN</td>\n",
       "      <td>NaN</td>\n",
       "      <td>5</td>\n",
       "      <td>12</td>\n",
       "      <td>1</td>\n",
       "      <td>NaN</td>\n",
       "      <td>9</td>\n",
       "    </tr>\n",
       "    <tr>\n",
       "      <th>2</th>\n",
       "      <td>123945</td>\n",
       "      <td>8</td>\n",
       "      <td>1</td>\n",
       "      <td>8</td>\n",
       "      <td>145</td>\n",
       "      <td>2017-11-07 23:39:14</td>\n",
       "      <td>NaT</td>\n",
       "      <td>0</td>\n",
       "      <td>7</td>\n",
       "      <td>23</td>\n",
       "      <td>...</td>\n",
       "      <td>NaN</td>\n",
       "      <td>13612.0</td>\n",
       "      <td>NaN</td>\n",
       "      <td>NaN</td>\n",
       "      <td>NaN</td>\n",
       "      <td>1</td>\n",
       "      <td>3</td>\n",
       "      <td>1</td>\n",
       "      <td>NaN</td>\n",
       "      <td>18</td>\n",
       "    </tr>\n",
       "    <tr>\n",
       "      <th>3</th>\n",
       "      <td>88552</td>\n",
       "      <td>12</td>\n",
       "      <td>1</td>\n",
       "      <td>19</td>\n",
       "      <td>265</td>\n",
       "      <td>2017-11-07 07:10:49</td>\n",
       "      <td>NaT</td>\n",
       "      <td>0</td>\n",
       "      <td>7</td>\n",
       "      <td>7</td>\n",
       "      <td>...</td>\n",
       "      <td>NaN</td>\n",
       "      <td>NaN</td>\n",
       "      <td>NaN</td>\n",
       "      <td>NaN</td>\n",
       "      <td>NaN</td>\n",
       "      <td>1</td>\n",
       "      <td>2</td>\n",
       "      <td>1</td>\n",
       "      <td>NaN</td>\n",
       "      <td>9</td>\n",
       "    </tr>\n",
       "    <tr>\n",
       "      <th>4</th>\n",
       "      <td>63340</td>\n",
       "      <td>15</td>\n",
       "      <td>1</td>\n",
       "      <td>19</td>\n",
       "      <td>386</td>\n",
       "      <td>2017-11-09 03:37:51</td>\n",
       "      <td>NaT</td>\n",
       "      <td>0</td>\n",
       "      <td>9</td>\n",
       "      <td>3</td>\n",
       "      <td>...</td>\n",
       "      <td>NaN</td>\n",
       "      <td>NaN</td>\n",
       "      <td>NaN</td>\n",
       "      <td>NaN</td>\n",
       "      <td>NaN</td>\n",
       "      <td>1</td>\n",
       "      <td>1</td>\n",
       "      <td>1</td>\n",
       "      <td>NaN</td>\n",
       "      <td>7</td>\n",
       "    </tr>\n",
       "  </tbody>\n",
       "</table>\n",
       "<p>5 rows × 64 columns</p>\n",
       "</div>"
      ],
      "text/plain": [
       "       IP  APP  DEVICE  OS  CHANNEL          CLICK_TIME ATTRIBUTED_TIME  \\\n",
       "0  151462   26       1  19      266 2017-11-07 07:33:18             NaT   \n",
       "1  249327   14       1   9      349 2017-11-09 09:08:21             NaT   \n",
       "2  123945    8       1   8      145 2017-11-07 23:39:14             NaT   \n",
       "3   88552   12       1  19      265 2017-11-07 07:10:49             NaT   \n",
       "4   63340   15       1  19      386 2017-11-09 03:37:51             NaT   \n",
       "\n",
       "   IS_ATTRIBUTED  DAY  HOUR  ...  IP_APP_DEVICE_OS_NEXTCLICK  \\\n",
       "0              0    7     7  ...                         NaN   \n",
       "1              0    9     9  ...                         NaN   \n",
       "2              0    7    23  ...                         NaN   \n",
       "3              0    7     7  ...                         NaN   \n",
       "4              0    9     3  ...                         NaN   \n",
       "\n",
       "   IP_APP_DEVICE_CHANNEL_NEXTCLICK  IP_APP_OS_CHANNEL_NEXTCLICK  \\\n",
       "0                              NaN                          NaN   \n",
       "1                              NaN                          NaN   \n",
       "2                          13612.0                          NaN   \n",
       "3                              NaN                          NaN   \n",
       "4                              NaN                          NaN   \n",
       "\n",
       "   IP_DEVICE_OS_CHANNEL_NEXTCLICK  IP_APP_DEVICE_OS_CHANNEL_NEXTCLICK  \\\n",
       "0                             NaN                                 NaN   \n",
       "1                             NaN                                 NaN   \n",
       "2                             NaN                                 NaN   \n",
       "3                             NaN                                 NaN   \n",
       "4                             NaN                                 NaN   \n",
       "\n",
       "   IP_DAY_HOUR_COUNT_CHANNEL  IP_APP_COUNT_CHANNEL  IP_APP_OS_COUNT_CHANNEL  \\\n",
       "0                          1                     1                        1   \n",
       "1                          5                    12                        1   \n",
       "2                          1                     3                        1   \n",
       "3                          1                     2                        1   \n",
       "4                          1                     1                        1   \n",
       "\n",
       "   IP_APP_OS_VAR_HOUR  IP_NUNIQUE_APP  \n",
       "0                 NaN               2  \n",
       "1                 NaN               9  \n",
       "2                 NaN              18  \n",
       "3                 NaN               9  \n",
       "4                 NaN               7  \n",
       "\n",
       "[5 rows x 64 columns]"
      ]
     },
     "execution_count": 21,
     "metadata": {},
     "output_type": "execute_result"
    }
   ],
   "source": [
    "train_df.head()"
   ]
  },
  {
   "cell_type": "code",
   "execution_count": 30,
   "metadata": {},
   "outputs": [
    {
     "ename": "NameError",
     "evalue": "name 'train_df' is not defined",
     "output_type": "error",
     "traceback": [
      "\u001b[1;31m---------------------------------------------------------------------------\u001b[0m",
      "\u001b[1;31mNameError\u001b[0m                                 Traceback (most recent call last)",
      "Cell \u001b[1;32mIn[30], line 2\u001b[0m\n\u001b[0;32m      1\u001b[0m \u001b[38;5;66;03m# Get X and y for XGBoost as pandas dfs\u001b[39;00m\n\u001b[1;32m----> 2\u001b[0m y \u001b[38;5;241m=\u001b[39m \u001b[43mtrain_df\u001b[49m[\u001b[38;5;124m\"\u001b[39m\u001b[38;5;124mIS_ATTRIBUTED\u001b[39m\u001b[38;5;124m\"\u001b[39m]\n\u001b[0;32m      3\u001b[0m X \u001b[38;5;241m=\u001b[39m train_df\u001b[38;5;241m.\u001b[39mdrop([\u001b[38;5;124m\"\u001b[39m\u001b[38;5;124mIS_ATTRIBUTED\u001b[39m\u001b[38;5;124m\"\u001b[39m, \u001b[38;5;124m\"\u001b[39m\u001b[38;5;124mCLICK_TIME\u001b[39m\u001b[38;5;124m\"\u001b[39m, \u001b[38;5;124m\"\u001b[39m\u001b[38;5;124mATTRIBUTED_TIME\u001b[39m\u001b[38;5;124m\"\u001b[39m], axis\u001b[38;5;241m=\u001b[39m\u001b[38;5;241m1\u001b[39m)\n",
      "\u001b[1;31mNameError\u001b[0m: name 'train_df' is not defined"
     ]
    }
   ],
   "source": [
    "# Get X and y for XGBoost as pandas dfs\n",
    "y = train_df[\"IS_ATTRIBUTED\"]\n",
    "X = train_df.drop([\"IS_ATTRIBUTED\", \"CLICK_TIME\", \"ATTRIBUTED_TIME\"], axis=1)"
   ]
  },
  {
   "cell_type": "code",
   "execution_count": 26,
   "metadata": {},
   "outputs": [
    {
     "data": {
      "text/plain": [
       "239"
      ]
     },
     "execution_count": 26,
     "metadata": {},
     "output_type": "execute_result"
    }
   ],
   "source": [
    "# Remove the full df from memory\n",
    "del train_df\n",
    "gc.collect()"
   ]
  },
  {
   "cell_type": "code",
   "execution_count": 45,
   "metadata": {},
   "outputs": [],
   "source": [
    "bayes_params = {\n",
    "        'learning_rate': (0.01, 1.0, 'log-uniform'),\n",
    "        'min_child_weight': (0, 10),\n",
    "        'max_depth': (0, 50),\n",
    "        'max_delta_step': (0, 20),\n",
    "        'subsample': (0.01, 1.0, 'uniform'),\n",
    "        'colsample_bytree': (0.01, 1.0, 'uniform'),\n",
    "        'colsample_bylevel': (0.01, 1.0, 'uniform'),\n",
    "        'reg_lambda': (1e-9, 1000, 'log-uniform'),\n",
    "        'reg_alpha': (1e-9, 1.0, 'log-uniform'),\n",
    "        'gamma': (1e-9, 0.5, 'log-uniform'),\n",
    "        'min_child_weight': (0, 5),\n",
    "        'n_estimators': (50, 100),\n",
    "    }"
   ]
  },
  {
   "cell_type": "code",
   "execution_count": 85,
   "metadata": {},
   "outputs": [],
   "source": [
    "bayes_cv = BayesSearchCV(\n",
    "    estimator=xgb.XGBClassifier(        \n",
    "        objective='binary:logistic',\n",
    "        eval_metric='auc',\n",
    "        tree_method='approx'\n",
    "        ),\n",
    "    search_spaces=bayes_params,\n",
    "    n_jobs=-1,\n",
    "    scoring='roc_auc',\n",
    "    cv=StratifiedKFold(n_splits=3, shuffle=True),\n",
    "    verbose=2,\n",
    "    n_iter=5\n",
    ")"
   ]
  },
  {
   "cell_type": "code",
   "execution_count": 86,
   "metadata": {},
   "outputs": [],
   "source": [
    "def print_model_status(optim_result):\n",
    "    # Save all models for future use if necessary\n",
    "    all_models = pd.DataFrame(bayes_cv.cv_results_)\n",
    "    \n",
    "    print(f\"Model # {len(all_models)}\\n\"\n",
    "          f\"Best ROC-AUC score: {np.round(bayes_cv.best_score_, 4)}\\n\"\n",
    "          f\"Best params: {bayes_cv.best_params_}\")\n",
    "    \n",
    "    # Save model results\n",
    "    clf_name = bayes_cv.estimator.__class__.__name__\n",
    "    all_models.to_csv(clf_name+\"_cv_results.csv\")"
   ]
  },
  {
   "cell_type": "code",
   "execution_count": 87,
   "metadata": {},
   "outputs": [
    {
     "name": "stdout",
     "output_type": "stream",
     "text": [
      "Fitting 3 folds for each of 1 candidates, totalling 3 fits\n",
      "Fitting 3 folds for each of 1 candidates, totalling 3 fits\n",
      "Fitting 3 folds for each of 1 candidates, totalling 3 fits\n",
      "Fitting 3 folds for each of 1 candidates, totalling 3 fits\n",
      "Fitting 3 folds for each of 1 candidates, totalling 3 fits\n"
     ]
    }
   ],
   "source": [
    "result = bayes_cv.fit(X, y)"
   ]
  },
  {
   "cell_type": "code",
   "execution_count": 83,
   "metadata": {},
   "outputs": [],
   "source": [
    "with open(r'data/model_results/xgb_bayes_strat.pkl', 'wb') as f:\n",
    "    pickle.dump(bayes_cv, f)"
   ]
  },
  {
   "cell_type": "markdown",
   "metadata": {},
   "source": [
    "### Train XGBoost Model in Python with static validation set for CV\n",
    "We want to use day 9 as our validation set here."
   ]
  },
  {
   "cell_type": "code",
   "execution_count": null,
   "metadata": {},
   "outputs": [],
   "source": []
  },
  {
   "cell_type": "markdown",
   "metadata": {},
   "source": [
    "## Snowpark implementation"
   ]
  },
  {
   "cell_type": "markdown",
   "metadata": {},
   "source": [
    "### Train XGBoost Model via Snowpark with stratified cv"
   ]
  },
  {
   "cell_type": "code",
   "execution_count": null,
   "metadata": {},
   "outputs": [],
   "source": [
    "from snowflake.ml.modeling.xgboost import XGBClassifier\n",
    "from snowflake.ml.modeling.model_selection import GridSearchCV\n",
    "from snowflake.ml.modeling.metrics import *"
   ]
  },
  {
   "cell_type": "code",
   "execution_count": 54,
   "metadata": {},
   "outputs": [],
   "source": [
    "grid_search = GridSearchCV(\n",
    "    estimator=XGBClassifier(),\n",
    "    param_grid=xgb_params,\n",
    "    n_jobs=-1,\n",
    "    input_cols=feature_cols,\n",
    "    label_cols=target_col,\n",
    "    output_cols=\"PREDICTION\",\n",
    "    scoring=roc_auc_score,\n",
    "    cv=3,  # Change to stratified\n",
    "    verbose=2\n",
    ")"
   ]
  },
  {
   "cell_type": "code",
   "execution_count": 56,
   "metadata": {},
   "outputs": [],
   "source": [
    "grid_search.fit(train_sdf)"
   ]
  }
 ],
 "metadata": {
  "kernelspec": {
   "display_name": "Python 3",
   "language": "python",
   "name": "python3"
  },
  "language_info": {
   "codemirror_mode": {
    "name": "ipython",
    "version": 3
   },
   "file_extension": ".py",
   "mimetype": "text/x-python",
   "name": "python",
   "nbconvert_exporter": "python",
   "pygments_lexer": "ipython3",
   "version": "3.10.14"
  }
 },
 "nbformat": 4,
 "nbformat_minor": 2
}
