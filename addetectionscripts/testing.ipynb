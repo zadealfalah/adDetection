{
 "cells": [
  {
   "cell_type": "code",
   "execution_count": 31,
   "metadata": {},
   "outputs": [],
   "source": [
    "import mlflow\n",
    "import optuna\n",
    "\n",
    "from transforms import *\n",
    "from utils import *\n",
    "from models import *\n",
    "from plots import *\n",
    "from pathlib import Path\n",
    "import time\n",
    "\n",
    "import xgboost as xgb\n",
    "from sklearn.model_selection import train_test_split\n"
   ]
  },
  {
   "cell_type": "markdown",
   "metadata": {},
   "source": [
    "mlflow setup"
   ]
  },
  {
   "cell_type": "code",
   "execution_count": 2,
   "metadata": {},
   "outputs": [],
   "source": [
    "tracking_uri = fr\"http://127.0.0.1:8080\"\n",
    "metric_name = \"auc\""
   ]
  },
  {
   "cell_type": "code",
   "execution_count": 3,
   "metadata": {},
   "outputs": [],
   "source": [
    "mlflow.set_tracking_uri(tracking_uri)"
   ]
  },
  {
   "cell_type": "code",
   "execution_count": 4,
   "metadata": {},
   "outputs": [],
   "source": [
    "X_us, y_us, test = init_datasets()"
   ]
  },
  {
   "cell_type": "code",
   "execution_count": 5,
   "metadata": {},
   "outputs": [],
   "source": [
    "X_us = add_hour_day_from_clicktime(X_us)"
   ]
  },
  {
   "cell_type": "code",
   "execution_count": 6,
   "metadata": {},
   "outputs": [],
   "source": [
    "grouping_categories = [\n",
    "    # IP with every other base\n",
    "    ['ip', 'channel'],\n",
    "    ['ip', 'device'], \n",
    "    ['ip', 'os'],\n",
    "    ['ip', 'app'],\n",
    "    # IP and time features - must be done after adding time features\n",
    "    ['ip', 'day', 'hour'],\n",
    "    # Perhaps IP isn't as important\n",
    "    ['app', 'channel'],\n",
    "    # Triplet(s)\n",
    "    ['ip', 'app', 'os'],\n",
    "    # Quartet(s)\n",
    "    ['ip', 'device', 'os', 'app']\n",
    "    # Exclude all 5 together as these will be used for grouping\n",
    "]\n",
    "grouping_functions = ['nunique', 'cumcount']"
   ]
  },
  {
   "cell_type": "code",
   "execution_count": 7,
   "metadata": {},
   "outputs": [],
   "source": [
    "X_us = add_groupby_user_features(X_us, grouping_categories=grouping_categories,\n",
    "                                grouping_functions=grouping_functions)"
   ]
  },
  {
   "cell_type": "code",
   "execution_count": 8,
   "metadata": {},
   "outputs": [],
   "source": [
    "X_us = add_next_click(X_us)"
   ]
  },
  {
   "cell_type": "code",
   "execution_count": 9,
   "metadata": {},
   "outputs": [
    {
     "data": {
      "text/plain": [
       "Index(['ip', 'app', 'device', 'os', 'channel', 'click_time', 'hour', 'day',\n",
       "       'ip_channel_nunique', 'ip_channel_cumcount', 'ip_device_nunique',\n",
       "       'ip_device_cumcount', 'ip_os_nunique', 'ip_os_cumcount',\n",
       "       'ip_app_nunique', 'ip_app_cumcount', 'ip_day_hour_nunique',\n",
       "       'ip_day_hour_cumcount', 'app_channel_nunique', 'app_channel_cumcount',\n",
       "       'ip_app_os_nunique', 'ip_app_os_cumcount', 'ip_device_os_app_nunique',\n",
       "       'ip_device_os_app_cumcount', 'user_hash', 'epoch_time', 'next_click'],\n",
       "      dtype='object')"
      ]
     },
     "execution_count": 9,
     "metadata": {},
     "output_type": "execute_result"
    }
   ],
   "source": [
    "X_us.columns"
   ]
  },
  {
   "cell_type": "code",
   "execution_count": 10,
   "metadata": {},
   "outputs": [],
   "source": [
    "cols_to_bin = ['next_click'] # Just bin the one for now"
   ]
  },
  {
   "cell_type": "code",
   "execution_count": 11,
   "metadata": {},
   "outputs": [
    {
     "name": "stderr",
     "output_type": "stream",
     "text": [
      "c:\\Users\\Zade\\Desktop\\PythonStuff\\adDetection\\addetectionscripts\\transforms.py:84: RuntimeWarning: divide by zero encountered in log2\n",
      "  df[col] = np.log2(1 + df[col].values).astype(int)\n",
      "c:\\Users\\Zade\\Desktop\\PythonStuff\\adDetection\\addetectionscripts\\transforms.py:84: RuntimeWarning: invalid value encountered in log2\n",
      "  df[col] = np.log2(1 + df[col].values).astype(int)\n",
      "c:\\Users\\Zade\\Desktop\\PythonStuff\\adDetection\\addetectionscripts\\transforms.py:84: RuntimeWarning: invalid value encountered in cast\n",
      "  df[col] = np.log2(1 + df[col].values).astype(int)\n"
     ]
    }
   ],
   "source": [
    "X_us = log_bin_column(X_us, cols_to_bin)"
   ]
  },
  {
   "cell_type": "code",
   "execution_count": 12,
   "metadata": {},
   "outputs": [
    {
     "data": {
      "text/plain": [
       "Index(['ip', 'app', 'device', 'os', 'channel', 'click_time', 'hour', 'day',\n",
       "       'ip_channel_nunique', 'ip_channel_cumcount', 'ip_device_nunique',\n",
       "       'ip_device_cumcount', 'ip_os_nunique', 'ip_os_cumcount',\n",
       "       'ip_app_nunique', 'ip_app_cumcount', 'ip_day_hour_nunique',\n",
       "       'ip_day_hour_cumcount', 'app_channel_nunique', 'app_channel_cumcount',\n",
       "       'ip_app_os_nunique', 'ip_app_os_cumcount', 'ip_device_os_app_nunique',\n",
       "       'ip_device_os_app_cumcount', 'user_hash', 'epoch_time', 'next_click'],\n",
       "      dtype='object')"
      ]
     },
     "execution_count": 12,
     "metadata": {},
     "output_type": "execute_result"
    }
   ],
   "source": [
    "X_us.columns"
   ]
  },
  {
   "cell_type": "code",
   "execution_count": 13,
   "metadata": {},
   "outputs": [],
   "source": [
    "# Drop the original click_time feature\n",
    "X_us.drop(columns=['click_time'], inplace=True)"
   ]
  },
  {
   "cell_type": "code",
   "execution_count": 14,
   "metadata": {},
   "outputs": [
    {
     "data": {
      "text/plain": [
       "Index(['ip', 'app', 'device', 'os', 'channel', 'hour', 'day',\n",
       "       'ip_channel_nunique', 'ip_channel_cumcount', 'ip_device_nunique',\n",
       "       'ip_device_cumcount', 'ip_os_nunique', 'ip_os_cumcount',\n",
       "       'ip_app_nunique', 'ip_app_cumcount', 'ip_day_hour_nunique',\n",
       "       'ip_day_hour_cumcount', 'app_channel_nunique', 'app_channel_cumcount',\n",
       "       'ip_app_os_nunique', 'ip_app_os_cumcount', 'ip_device_os_app_nunique',\n",
       "       'ip_device_os_app_cumcount', 'user_hash', 'epoch_time', 'next_click'],\n",
       "      dtype='object')"
      ]
     },
     "execution_count": 14,
     "metadata": {},
     "output_type": "execute_result"
    }
   ],
   "source": [
    "X_us.columns"
   ]
  },
  {
   "cell_type": "code",
   "execution_count": 32,
   "metadata": {},
   "outputs": [
    {
     "data": {
      "image/png": "[encoded data removed]",
      "text/plain": [
       "<Figure size 1200x800 with 1 Axes>"
      ]
     },
     "execution_count": 32,
     "metadata": {},
     "output_type": "execute_result"
    }
   ],
   "source": [
    "# correlation plot for mlflow\n",
    "plot_correlation(X_us, y_us, target_col='is_attributed', save_path='test_corr_plot.png')"
   ]
  },
  {
   "cell_type": "code",
   "execution_count": 33,
   "metadata": {},
   "outputs": [],
   "source": [
    "testing_plot = plot_correlation(X_us, y_us, target_col='is_attributed')"
   ]
  },
  {
   "cell_type": "code",
   "execution_count": 34,
   "metadata": {},
   "outputs": [
    {
     "data": {
      "text/plain": [
       "matplotlib.figure.Figure"
      ]
     },
     "execution_count": 34,
     "metadata": {},
     "output_type": "execute_result"
    }
   ],
   "source": [
    "type(testing_plot)"
   ]
  },
  {
   "cell_type": "code",
   "execution_count": 35,
   "metadata": {},
   "outputs": [
    {
     "data": {
      "text/plain": [
       "Index(['ip', 'app', 'device', 'os', 'channel', 'hour', 'day',\n",
       "       'ip_channel_nunique', 'ip_channel_cumcount', 'ip_device_nunique',\n",
       "       'ip_device_cumcount', 'ip_os_nunique', 'ip_os_cumcount',\n",
       "       'ip_app_nunique', 'ip_app_cumcount', 'ip_day_hour_nunique',\n",
       "       'ip_day_hour_cumcount', 'app_channel_nunique', 'app_channel_cumcount',\n",
       "       'ip_app_os_nunique', 'ip_app_os_cumcount', 'ip_device_os_app_nunique',\n",
       "       'ip_device_os_app_cumcount', 'user_hash', 'epoch_time', 'next_click'],\n",
       "      dtype='object')"
      ]
     },
     "execution_count": 35,
     "metadata": {},
     "output_type": "execute_result"
    }
   ],
   "source": [
    "X_us.columns"
   ]
  },
  {
   "cell_type": "code",
   "execution_count": 36,
   "metadata": {},
   "outputs": [],
   "source": [
    "experiment_id = get_or_create_experiment(\"Attributed Class.\")"
   ]
  },
  {
   "cell_type": "code",
   "execution_count": 37,
   "metadata": {},
   "outputs": [
    {
     "data": {
      "text/plain": [
       "'605754130415395356'"
      ]
     },
     "execution_count": 37,
     "metadata": {},
     "output_type": "execute_result"
    }
   ],
   "source": [
    "experiment_id"
   ]
  },
  {
   "cell_type": "markdown",
   "metadata": {},
   "source": [
    "Do an XGBoost model first"
   ]
  },
  {
   "cell_type": "code",
   "execution_count": 38,
   "metadata": {},
   "outputs": [
    {
     "data": {
      "text/plain": [
       "<Experiment: artifact_location='mlflow-artifacts:/605754130415395356', creation_time=1716228982515, experiment_id='605754130415395356', last_update_time=1716228982515, lifecycle_stage='active', name='Attributed Class.', tags={}>"
      ]
     },
     "execution_count": 38,
     "metadata": {},
     "output_type": "execute_result"
    }
   ],
   "source": [
    "mlflow.set_experiment(experiment_id=experiment_id)"
   ]
  },
  {
   "cell_type": "code",
   "execution_count": 39,
   "metadata": {},
   "outputs": [],
   "source": [
    "test_size = 0.2\n",
    "X_train, X_val, y_train, y_val = train_test_split(X_us, y_us, test_size=test_size, random_state=1233)"
   ]
  },
  {
   "cell_type": "code",
   "execution_count": 40,
   "metadata": {},
   "outputs": [],
   "source": [
    "# Set to Dmatrix format for training speed\n",
    "dtrain = xgb.DMatrix(X_train, label=y_train)\n",
    "dvalid = xgb.DMatrix(X_val, label=y_val)"
   ]
  },
  {
   "cell_type": "code",
   "execution_count": 41,
   "metadata": {},
   "outputs": [],
   "source": [
    "# Set optuna to log only errors\n",
    "optuna.logging.set_verbosity(optuna.logging.ERROR)"
   ]
  },
  {
   "cell_type": "code",
   "execution_count": 43,
   "metadata": {},
   "outputs": [],
   "source": [
    "# Run name for mlflow logging\n",
    "run_name = \"second_attempt\""
   ]
  },
  {
   "cell_type": "code",
   "execution_count": 48,
   "metadata": {},
   "outputs": [],
   "source": [
    "def objective(trial):\n",
    "    with mlflow.start_run(nested=True):\n",
    "        # Hparams\n",
    "        params = {\n",
    "            'objective': 'binary:logistic',\n",
    "            'eval_metric': 'auc',\n",
    "            'booster': trial.suggest_categorical(\"booster\", [\"gbtree\", \"dart\"]),\n",
    "            'lambda': trial.suggest_float(\"lambda\", 1e-8, 1.0, log=True),\n",
    "            'alpha': trial.suggest_float(\"alpha\", 1e-8, 1.0, log=True),\n",
    "            'max_depth': trial.suggest_int(\"max_depth\", 1, 5),\n",
    "            'eta': trial.suggest_float(\"eta\", 1e-8, 1.0, log=True),\n",
    "            'gamma': trial.suggest_float(\"gamma\", 1e-8, 1.0, log=True),\n",
    "            'grow_policy': trial.suggest_categorical(\"grow_policy\", [\"depthwise\", \"lossguide\"])\n",
    "        }\n",
    "        \n",
    "        bst = xgb.train(params, dtrain)\n",
    "        preds = bst.predict(dvalid)\n",
    "        auc_score = roc_auc_score(y_val, preds)\n",
    "    \n",
    "        # Log to mlflow\n",
    "        mlflow.log_params(params)\n",
    "        mlflow.log_metric('auc', auc_score)\n",
    "    return auc_score"
   ]
  },
  {
   "cell_type": "code",
   "execution_count": 49,
   "metadata": {},
   "outputs": [],
   "source": [
    "def champion_callback_local(study, frozen_trial):\n",
    "    \"\"\"\n",
    "    Logging callback that will report when a new trial iteration improves upon existing\n",
    "    best trial values.\n",
    "\n",
    "    Note: This callback is not intended for use in distributed computing systems such as Spark\n",
    "    or Ray due to the micro-batch iterative implementation for distributing trials to a cluster's\n",
    "    workers or agents.\n",
    "    The race conditions with file system state management for distributed trials will render\n",
    "    inconsistent values with this callback.\n",
    "    \"\"\"\n",
    "\n",
    "    winner = study.user_attrs.get(\"winner\", None)\n",
    "\n",
    "    if study.best_value and winner != study.best_value:\n",
    "        study.set_user_attr(\"winner\", study.best_value)\n",
    "        if winner:\n",
    "            improvement_percent = (abs(winner - study.best_value) / study.best_value) * 100\n",
    "            print(\n",
    "                f\"Trial {frozen_trial.number} achieved value: {frozen_trial.value} with \"\n",
    "                f\"{improvement_percent: .4f}% improvement\"\n",
    "            )\n",
    "        else:\n",
    "            print(f\"Initial trial {frozen_trial.number} achieved value: {frozen_trial.value}\")"
   ]
  },
  {
   "cell_type": "code",
   "execution_count": 51,
   "metadata": {},
   "outputs": [
    {
     "name": "stdout",
     "output_type": "stream",
     "text": [
      "Initial trial 0 achieved value: 0.933513392719326\n",
      "Trial 3 achieved value: 0.9829992039700839 with  5.0342% improvement\n",
      "Trial 6 achieved value: 0.9837393958321861 with  0.0752% improvement\n",
      "Trial 12 achieved value: 0.9847031598970731 with  0.0979% improvement\n",
      "Trial 16 achieved value: 0.9993300773322568 with  1.4637% improvement\n",
      "Trial 18 achieved value: 0.9995605487807298 with  0.0231% improvement\n",
      "Trial 42 achieved value: 0.999653506313402 with  0.0093% improvement\n"
     ]
    },
    {
     "name": "stderr",
     "output_type": "stream",
     "text": [
      "c:\\Users\\Zade\\Desktop\\PythonStuff\\adDetection\\.conda\\lib\\site-packages\\mlflow\\types\\utils.py:394: UserWarning: Hint: Inferred schema contains integer column(s). Integer columns in Python cannot represent missing values. If your input data contains missing values at inference time, it will be encoded as floats and will cause a schema enforcement error. The best way to avoid this problem is to infer the model schema based on a realistic data sample (training dataset) that includes missing values. Alternatively, you can declare integer columns as doubles (float64) whenever these columns may have missing values. See `Handling Integers With Missing Values <https://www.mlflow.org/docs/latest/models.html#handling-integers-with-missing-values>`_ for more details.\n",
      "  warnings.warn(\n"
     ]
    }
   ],
   "source": [
    "with mlflow.start_run(experiment_id=experiment_id, run_name=run_name, nested=True):\n",
    "    # Init Optuna\n",
    "    study = optuna.create_study(direction='maximize') # Want to max our AUC\n",
    "    \n",
    "    # Optimize hparams\n",
    "    study.optimize(objective, n_trials=50, callbacks=[champion_callback_local])\n",
    "    \n",
    "    # Log best params/score\n",
    "    mlflow.log_params(study.best_params)\n",
    "    mlflow.log_metric('best_auc', study.best_value)\n",
    "    \n",
    "    # Set log tags\n",
    "    mlflow.set_tags(\n",
    "        tags={\n",
    "            'project': 'Ad Fraud Detection',\n",
    "            'optimizer_engine': 'Optuna',\n",
    "            'model_family': 'xgboost', \n",
    "            'feature_set_version': 2\n",
    "        }\n",
    "    )\n",
    "    \n",
    "    # Log a fit model instance\n",
    "    model = xgb.train(study.best_params, dtrain)\n",
    "    \n",
    "    # Log the correlation plot\n",
    "    correlations = plot_correlation(X_us, y_us, target_col='is_attributed')\n",
    "    mlflow.log_figure(figure=correlations, artifact_file='plot_correlation.png')\n",
    "    \n",
    "    # Log feature importance plot\n",
    "    importances = plot_feature_importance(model, booster=study.best_params.get('booster'))\n",
    "    mlflow.log_figure(figure=importances, artifact_file='feature_importances.png')\n",
    "    \n",
    "    artifact_path = 'model'\n",
    "    \n",
    "    mlflow.xgboost.log_model(\n",
    "        xgb_model=model,\n",
    "        artifact_path=artifact_path,\n",
    "        input_example=X_train.iloc[[0]],\n",
    "        model_format='ubj',\n",
    "        metadata={'model_data_version':1}\n",
    "    )\n",
    "    \n",
    "    # Get logged model uri for loading from artifact store\n",
    "    model_uri = mlflow.get_artifact_uri(artifact_path)"
   ]
  },
  {
   "cell_type": "code",
   "execution_count": null,
   "metadata": {},
   "outputs": [],
   "source": []
  }
 ],
 "metadata": {
  "kernelspec": {
   "display_name": "Python 3",
   "language": "python",
   "name": "python3"
  },
  "language_info": {
   "codemirror_mode": {
    "name": "ipython",
    "version": 3
   },
   "file_extension": ".py",
   "mimetype": "text/x-python",
   "name": "python",
   "nbconvert_exporter": "python",
   "pygments_lexer": "ipython3",
   "version": "3.10.14"
  }
 },
 "nbformat": 4,
 "nbformat_minor": 2
}
