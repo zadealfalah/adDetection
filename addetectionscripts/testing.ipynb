{
 "cells": [
  {
   "cell_type": "code",
   "execution_count": 2,
   "metadata": {},
   "outputs": [],
   "source": [
    "from transforms import *"
   ]
  },
  {
   "cell_type": "code",
   "execution_count": 3,
   "metadata": {},
   "outputs": [],
   "source": [
    "X_us, y_us, test = init_datasets()"
   ]
  },
  {
   "cell_type": "code",
   "execution_count": 8,
   "metadata": {},
   "outputs": [],
   "source": [
    "X_us = add_hour_day_from_clicktime(X_us)"
   ]
  },
  {
   "cell_type": "code",
   "execution_count": null,
   "metadata": {},
   "outputs": [],
   "source": [
    "grouping_categories = [\n",
    "    # IP with every other base\n",
    "    ['ip', 'channel'],\n",
    "    ['ip', 'device'], \n",
    "    ['ip', 'os'],\n",
    "    ['ip', 'app'],\n",
    "    # IP and time features - must be done after adding time features\n",
    "    ['ip', 'day', 'hour'],\n",
    "    # Perhaps IP isn't as important\n",
    "    ['app', 'channel'],\n",
    "    # Triplet(s)\n",
    "    ['ip', 'app', 'os'],\n",
    "    # Quartet(s)\n",
    "    ['ip', 'device', 'os', 'app']\n",
    "    # Exclude all 5 together as these will be used for grouping\n",
    "]\n",
    "grouping_functions = ['nunique', 'cumcount']"
   ]
  },
  {
   "cell_type": "code",
   "execution_count": 9,
   "metadata": {},
   "outputs": [
    {
     "ename": "TypeError",
     "evalue": "add_groupby_user_features() missing 2 required positional arguments: 'grouping_categories' and 'grouping_functions'",
     "output_type": "error",
     "traceback": [
      "\u001b[1;31m---------------------------------------------------------------------------\u001b[0m",
      "\u001b[1;31mTypeError\u001b[0m                                 Traceback (most recent call last)",
      "Cell \u001b[1;32mIn[9], line 1\u001b[0m\n\u001b[1;32m----> 1\u001b[0m X_us \u001b[38;5;241m=\u001b[39m \u001b[43madd_groupby_user_features\u001b[49m\u001b[43m(\u001b[49m\u001b[43mX_us\u001b[49m\u001b[43m)\u001b[49m\n",
      "\u001b[1;31mTypeError\u001b[0m: add_groupby_user_features() missing 2 required positional arguments: 'grouping_categories' and 'grouping_functions'"
     ]
    }
   ],
   "source": [
    "X_us = add_groupby_user_features(X_us)"
   ]
  },
  {
   "cell_type": "code",
   "execution_count": null,
   "metadata": {},
   "outputs": [],
   "source": []
  }
 ],
 "metadata": {
  "kernelspec": {
   "display_name": "Python 3",
   "language": "python",
   "name": "python3"
  },
  "language_info": {
   "codemirror_mode": {
    "name": "ipython",
    "version": 3
   },
   "file_extension": ".py",
   "mimetype": "text/x-python",
   "name": "python",
   "nbconvert_exporter": "python",
   "pygments_lexer": "ipython3",
   "version": "3.10.14"
  }
 },
 "nbformat": 4,
 "nbformat_minor": 2
}
