{
 "cells": [
  {
   "cell_type": "code",
   "execution_count": 1,
   "metadata": {},
   "outputs": [],
   "source": [
    "import mlflow\n",
    "import optuna\n",
    "\n",
    "from transforms import *\n",
    "from utils import *\n",
    "from plots import *\n",
    "from pathlib import Path\n",
    "import time\n",
    "import os\n",
    "\n",
    "import xgboost as xgb\n",
    "from sklearn.model_selection import train_test_split\n",
    "from sklearn.metrics import roc_auc_score, confusion_matrix\n",
    "\n",
    "from optuna.trial import Trial, FrozenTrial\n",
    "from optuna.study import Study\n",
    "\n",
    "from typing import Optional, Dict\n"
   ]
  },
  {
   "cell_type": "markdown",
   "metadata": {},
   "source": [
    "Testing on new data"
   ]
  },
  {
   "cell_type": "code",
   "execution_count": 2,
   "metadata": {},
   "outputs": [],
   "source": [
    "df = pd.read_csv(f\"../datasets/train.csv\")"
   ]
  },
  {
   "cell_type": "code",
   "execution_count": 3,
   "metadata": {},
   "outputs": [],
   "source": [
    "y_df = df[['is_attributed']]\n",
    "X_df = df.drop(columns=['attributed_time', 'is_attributed'])"
   ]
  },
  {
   "cell_type": "code",
   "execution_count": 4,
   "metadata": {},
   "outputs": [],
   "source": [
    "# X_df['click_time'] = pd.to_datetime(X_df['click_time'])"
   ]
  },
  {
   "cell_type": "code",
   "execution_count": 5,
   "metadata": {},
   "outputs": [
    {
     "name": "stdout",
     "output_type": "stream",
     "text": [
      "Applied transformation: add_hour_day_from_clicktime \n",
      "Using params {}\n",
      "Error applying transformation: add_groupby_user_features \n",
      "Using params {'grouping_categories': [['ip', 'channel'], ['ip', 'device'], ['ip', 'os'], ['ip', 'app'], ['ip', 'day', 'hour'], ['app', 'channel'], ['ip', 'app', 'os'], ['ip', 'device', 'os', 'app']], 'grouping_functions': ['nunique', 'cumcount']}: Unable to allocate 19.3 GiB for an array with shape (14, 184903890) and data type int64\n"
     ]
    }
   ],
   "source": [
    "X_ldf, y_ldf = apply_transformations(X_df, y_df)"
   ]
  },
  {
   "cell_type": "code",
   "execution_count": null,
   "metadata": {},
   "outputs": [
    {
     "ename": "KeyboardInterrupt",
     "evalue": "",
     "output_type": "error",
     "traceback": [
      "\u001b[1;31m---------------------------------------------------------------------------\u001b[0m",
      "\u001b[1;31mKeyboardInterrupt\u001b[0m                         Traceback (most recent call last)",
      "Cell \u001b[1;32mIn[43], line 1\u001b[0m\n\u001b[1;32m----> 1\u001b[0m \u001b[43mX_ldf\u001b[49m\u001b[38;5;241;43m.\u001b[39;49m\u001b[43mto_csv\u001b[49m\u001b[43m(\u001b[49m\u001b[38;5;124;43m\"\u001b[39;49m\u001b[38;5;124;43m../datasets/X_full_transformed.csv\u001b[39;49m\u001b[38;5;124;43m\"\u001b[39;49m\u001b[43m)\u001b[49m\n\u001b[0;32m      2\u001b[0m y_ldf\u001b[38;5;241m.\u001b[39mto_csv(\u001b[38;5;124m\"\u001b[39m\u001b[38;5;124m../datasets/y_full_transformed.csv\u001b[39m\u001b[38;5;124m\"\u001b[39m)\n",
      "File \u001b[1;32mc:\\Users\\Zade\\Desktop\\PythonStuff\\adDetection\\.conda\\lib\\site-packages\\pandas\\util\\_decorators.py:211\u001b[0m, in \u001b[0;36mdeprecate_kwarg.<locals>._deprecate_kwarg.<locals>.wrapper\u001b[1;34m(*args, **kwargs)\u001b[0m\n\u001b[0;32m    209\u001b[0m     \u001b[38;5;28;01melse\u001b[39;00m:\n\u001b[0;32m    210\u001b[0m         kwargs[new_arg_name] \u001b[38;5;241m=\u001b[39m new_arg_value\n\u001b[1;32m--> 211\u001b[0m \u001b[38;5;28;01mreturn\u001b[39;00m func(\u001b[38;5;241m*\u001b[39margs, \u001b[38;5;241m*\u001b[39m\u001b[38;5;241m*\u001b[39mkwargs)\n",
      "File \u001b[1;32mc:\\Users\\Zade\\Desktop\\PythonStuff\\adDetection\\.conda\\lib\\site-packages\\pandas\\core\\generic.py:3720\u001b[0m, in \u001b[0;36mNDFrame.to_csv\u001b[1;34m(self, path_or_buf, sep, na_rep, float_format, columns, header, index, index_label, mode, encoding, compression, quoting, quotechar, lineterminator, chunksize, date_format, doublequote, escapechar, decimal, errors, storage_options)\u001b[0m\n\u001b[0;32m   3709\u001b[0m df \u001b[38;5;241m=\u001b[39m \u001b[38;5;28mself\u001b[39m \u001b[38;5;28;01mif\u001b[39;00m \u001b[38;5;28misinstance\u001b[39m(\u001b[38;5;28mself\u001b[39m, ABCDataFrame) \u001b[38;5;28;01melse\u001b[39;00m \u001b[38;5;28mself\u001b[39m\u001b[38;5;241m.\u001b[39mto_frame()\n\u001b[0;32m   3711\u001b[0m formatter \u001b[38;5;241m=\u001b[39m DataFrameFormatter(\n\u001b[0;32m   3712\u001b[0m     frame\u001b[38;5;241m=\u001b[39mdf,\n\u001b[0;32m   3713\u001b[0m     header\u001b[38;5;241m=\u001b[39mheader,\n\u001b[1;32m   (...)\u001b[0m\n\u001b[0;32m   3717\u001b[0m     decimal\u001b[38;5;241m=\u001b[39mdecimal,\n\u001b[0;32m   3718\u001b[0m )\n\u001b[1;32m-> 3720\u001b[0m \u001b[38;5;28;01mreturn\u001b[39;00m \u001b[43mDataFrameRenderer\u001b[49m\u001b[43m(\u001b[49m\u001b[43mformatter\u001b[49m\u001b[43m)\u001b[49m\u001b[38;5;241;43m.\u001b[39;49m\u001b[43mto_csv\u001b[49m\u001b[43m(\u001b[49m\n\u001b[0;32m   3721\u001b[0m \u001b[43m    \u001b[49m\u001b[43mpath_or_buf\u001b[49m\u001b[43m,\u001b[49m\n\u001b[0;32m   3722\u001b[0m \u001b[43m    \u001b[49m\u001b[43mlineterminator\u001b[49m\u001b[38;5;241;43m=\u001b[39;49m\u001b[43mlineterminator\u001b[49m\u001b[43m,\u001b[49m\n\u001b[0;32m   3723\u001b[0m \u001b[43m    \u001b[49m\u001b[43msep\u001b[49m\u001b[38;5;241;43m=\u001b[39;49m\u001b[43msep\u001b[49m\u001b[43m,\u001b[49m\n\u001b[0;32m   3724\u001b[0m \u001b[43m    \u001b[49m\u001b[43mencoding\u001b[49m\u001b[38;5;241;43m=\u001b[39;49m\u001b[43mencoding\u001b[49m\u001b[43m,\u001b[49m\n\u001b[0;32m   3725\u001b[0m \u001b[43m    \u001b[49m\u001b[43merrors\u001b[49m\u001b[38;5;241;43m=\u001b[39;49m\u001b[43merrors\u001b[49m\u001b[43m,\u001b[49m\n\u001b[0;32m   3726\u001b[0m \u001b[43m    \u001b[49m\u001b[43mcompression\u001b[49m\u001b[38;5;241;43m=\u001b[39;49m\u001b[43mcompression\u001b[49m\u001b[43m,\u001b[49m\n\u001b[0;32m   3727\u001b[0m \u001b[43m    \u001b[49m\u001b[43mquoting\u001b[49m\u001b[38;5;241;43m=\u001b[39;49m\u001b[43mquoting\u001b[49m\u001b[43m,\u001b[49m\n\u001b[0;32m   3728\u001b[0m \u001b[43m    \u001b[49m\u001b[43mcolumns\u001b[49m\u001b[38;5;241;43m=\u001b[39;49m\u001b[43mcolumns\u001b[49m\u001b[43m,\u001b[49m\n\u001b[0;32m   3729\u001b[0m \u001b[43m    \u001b[49m\u001b[43mindex_label\u001b[49m\u001b[38;5;241;43m=\u001b[39;49m\u001b[43mindex_label\u001b[49m\u001b[43m,\u001b[49m\n\u001b[0;32m   3730\u001b[0m \u001b[43m    \u001b[49m\u001b[43mmode\u001b[49m\u001b[38;5;241;43m=\u001b[39;49m\u001b[43mmode\u001b[49m\u001b[43m,\u001b[49m\n\u001b[0;32m   3731\u001b[0m \u001b[43m    \u001b[49m\u001b[43mchunksize\u001b[49m\u001b[38;5;241;43m=\u001b[39;49m\u001b[43mchunksize\u001b[49m\u001b[43m,\u001b[49m\n\u001b[0;32m   3732\u001b[0m \u001b[43m    \u001b[49m\u001b[43mquotechar\u001b[49m\u001b[38;5;241;43m=\u001b[39;49m\u001b[43mquotechar\u001b[49m\u001b[43m,\u001b[49m\n\u001b[0;32m   3733\u001b[0m \u001b[43m    \u001b[49m\u001b[43mdate_format\u001b[49m\u001b[38;5;241;43m=\u001b[39;49m\u001b[43mdate_format\u001b[49m\u001b[43m,\u001b[49m\n\u001b[0;32m   3734\u001b[0m \u001b[43m    \u001b[49m\u001b[43mdoublequote\u001b[49m\u001b[38;5;241;43m=\u001b[39;49m\u001b[43mdoublequote\u001b[49m\u001b[43m,\u001b[49m\n\u001b[0;32m   3735\u001b[0m \u001b[43m    \u001b[49m\u001b[43mescapechar\u001b[49m\u001b[38;5;241;43m=\u001b[39;49m\u001b[43mescapechar\u001b[49m\u001b[43m,\u001b[49m\n\u001b[0;32m   3736\u001b[0m \u001b[43m    \u001b[49m\u001b[43mstorage_options\u001b[49m\u001b[38;5;241;43m=\u001b[39;49m\u001b[43mstorage_options\u001b[49m\u001b[43m,\u001b[49m\n\u001b[0;32m   3737\u001b[0m \u001b[43m\u001b[49m\u001b[43m)\u001b[49m\n",
      "File \u001b[1;32mc:\\Users\\Zade\\Desktop\\PythonStuff\\adDetection\\.conda\\lib\\site-packages\\pandas\\util\\_decorators.py:211\u001b[0m, in \u001b[0;36mdeprecate_kwarg.<locals>._deprecate_kwarg.<locals>.wrapper\u001b[1;34m(*args, **kwargs)\u001b[0m\n\u001b[0;32m    209\u001b[0m     \u001b[38;5;28;01melse\u001b[39;00m:\n\u001b[0;32m    210\u001b[0m         kwargs[new_arg_name] \u001b[38;5;241m=\u001b[39m new_arg_value\n\u001b[1;32m--> 211\u001b[0m \u001b[38;5;28;01mreturn\u001b[39;00m func(\u001b[38;5;241m*\u001b[39margs, \u001b[38;5;241m*\u001b[39m\u001b[38;5;241m*\u001b[39mkwargs)\n",
      "File \u001b[1;32mc:\\Users\\Zade\\Desktop\\PythonStuff\\adDetection\\.conda\\lib\\site-packages\\pandas\\io\\formats\\format.py:1189\u001b[0m, in \u001b[0;36mDataFrameRenderer.to_csv\u001b[1;34m(self, path_or_buf, encoding, sep, columns, index_label, mode, compression, quoting, quotechar, lineterminator, chunksize, date_format, doublequote, escapechar, errors, storage_options)\u001b[0m\n\u001b[0;32m   1168\u001b[0m     created_buffer \u001b[38;5;241m=\u001b[39m \u001b[38;5;28;01mFalse\u001b[39;00m\n\u001b[0;32m   1170\u001b[0m csv_formatter \u001b[38;5;241m=\u001b[39m CSVFormatter(\n\u001b[0;32m   1171\u001b[0m     path_or_buf\u001b[38;5;241m=\u001b[39mpath_or_buf,\n\u001b[0;32m   1172\u001b[0m     lineterminator\u001b[38;5;241m=\u001b[39mlineterminator,\n\u001b[1;32m   (...)\u001b[0m\n\u001b[0;32m   1187\u001b[0m     formatter\u001b[38;5;241m=\u001b[39m\u001b[38;5;28mself\u001b[39m\u001b[38;5;241m.\u001b[39mfmt,\n\u001b[0;32m   1188\u001b[0m )\n\u001b[1;32m-> 1189\u001b[0m \u001b[43mcsv_formatter\u001b[49m\u001b[38;5;241;43m.\u001b[39;49m\u001b[43msave\u001b[49m\u001b[43m(\u001b[49m\u001b[43m)\u001b[49m\n\u001b[0;32m   1191\u001b[0m \u001b[38;5;28;01mif\u001b[39;00m created_buffer:\n\u001b[0;32m   1192\u001b[0m     \u001b[38;5;28;01massert\u001b[39;00m \u001b[38;5;28misinstance\u001b[39m(path_or_buf, StringIO)\n",
      "File \u001b[1;32mc:\\Users\\Zade\\Desktop\\PythonStuff\\adDetection\\.conda\\lib\\site-packages\\pandas\\io\\formats\\csvs.py:261\u001b[0m, in \u001b[0;36mCSVFormatter.save\u001b[1;34m(self)\u001b[0m\n\u001b[0;32m    241\u001b[0m \u001b[38;5;28;01mwith\u001b[39;00m get_handle(\n\u001b[0;32m    242\u001b[0m     \u001b[38;5;28mself\u001b[39m\u001b[38;5;241m.\u001b[39mfilepath_or_buffer,\n\u001b[0;32m    243\u001b[0m     \u001b[38;5;28mself\u001b[39m\u001b[38;5;241m.\u001b[39mmode,\n\u001b[1;32m   (...)\u001b[0m\n\u001b[0;32m    249\u001b[0m \n\u001b[0;32m    250\u001b[0m     \u001b[38;5;66;03m# Note: self.encoding is irrelevant here\u001b[39;00m\n\u001b[0;32m    251\u001b[0m     \u001b[38;5;28mself\u001b[39m\u001b[38;5;241m.\u001b[39mwriter \u001b[38;5;241m=\u001b[39m csvlib\u001b[38;5;241m.\u001b[39mwriter(\n\u001b[0;32m    252\u001b[0m         handles\u001b[38;5;241m.\u001b[39mhandle,\n\u001b[0;32m    253\u001b[0m         lineterminator\u001b[38;5;241m=\u001b[39m\u001b[38;5;28mself\u001b[39m\u001b[38;5;241m.\u001b[39mlineterminator,\n\u001b[1;32m   (...)\u001b[0m\n\u001b[0;32m    258\u001b[0m         quotechar\u001b[38;5;241m=\u001b[39m\u001b[38;5;28mself\u001b[39m\u001b[38;5;241m.\u001b[39mquotechar,\n\u001b[0;32m    259\u001b[0m     )\n\u001b[1;32m--> 261\u001b[0m     \u001b[38;5;28;43mself\u001b[39;49m\u001b[38;5;241;43m.\u001b[39;49m\u001b[43m_save\u001b[49m\u001b[43m(\u001b[49m\u001b[43m)\u001b[49m\n",
      "File \u001b[1;32mc:\\Users\\Zade\\Desktop\\PythonStuff\\adDetection\\.conda\\lib\\site-packages\\pandas\\io\\formats\\csvs.py:266\u001b[0m, in \u001b[0;36mCSVFormatter._save\u001b[1;34m(self)\u001b[0m\n\u001b[0;32m    264\u001b[0m \u001b[38;5;28;01mif\u001b[39;00m \u001b[38;5;28mself\u001b[39m\u001b[38;5;241m.\u001b[39m_need_to_save_header:\n\u001b[0;32m    265\u001b[0m     \u001b[38;5;28mself\u001b[39m\u001b[38;5;241m.\u001b[39m_save_header()\n\u001b[1;32m--> 266\u001b[0m \u001b[38;5;28;43mself\u001b[39;49m\u001b[38;5;241;43m.\u001b[39;49m\u001b[43m_save_body\u001b[49m\u001b[43m(\u001b[49m\u001b[43m)\u001b[49m\n",
      "File \u001b[1;32mc:\\Users\\Zade\\Desktop\\PythonStuff\\adDetection\\.conda\\lib\\site-packages\\pandas\\io\\formats\\csvs.py:304\u001b[0m, in \u001b[0;36mCSVFormatter._save_body\u001b[1;34m(self)\u001b[0m\n\u001b[0;32m    302\u001b[0m \u001b[38;5;28;01mif\u001b[39;00m start_i \u001b[38;5;241m>\u001b[39m\u001b[38;5;241m=\u001b[39m end_i:\n\u001b[0;32m    303\u001b[0m     \u001b[38;5;28;01mbreak\u001b[39;00m\n\u001b[1;32m--> 304\u001b[0m \u001b[38;5;28;43mself\u001b[39;49m\u001b[38;5;241;43m.\u001b[39;49m\u001b[43m_save_chunk\u001b[49m\u001b[43m(\u001b[49m\u001b[43mstart_i\u001b[49m\u001b[43m,\u001b[49m\u001b[43m \u001b[49m\u001b[43mend_i\u001b[49m\u001b[43m)\u001b[49m\n",
      "File \u001b[1;32mc:\\Users\\Zade\\Desktop\\PythonStuff\\adDetection\\.conda\\lib\\site-packages\\pandas\\io\\formats\\csvs.py:315\u001b[0m, in \u001b[0;36mCSVFormatter._save_chunk\u001b[1;34m(self, start_i, end_i)\u001b[0m\n\u001b[0;32m    312\u001b[0m data \u001b[38;5;241m=\u001b[39m [res\u001b[38;5;241m.\u001b[39miget_values(i) \u001b[38;5;28;01mfor\u001b[39;00m i \u001b[38;5;129;01min\u001b[39;00m \u001b[38;5;28mrange\u001b[39m(\u001b[38;5;28mlen\u001b[39m(res\u001b[38;5;241m.\u001b[39mitems))]\n\u001b[0;32m    314\u001b[0m ix \u001b[38;5;241m=\u001b[39m \u001b[38;5;28mself\u001b[39m\u001b[38;5;241m.\u001b[39mdata_index[slicer]\u001b[38;5;241m.\u001b[39m_format_native_types(\u001b[38;5;241m*\u001b[39m\u001b[38;5;241m*\u001b[39m\u001b[38;5;28mself\u001b[39m\u001b[38;5;241m.\u001b[39m_number_format)\n\u001b[1;32m--> 315\u001b[0m \u001b[43mlibwriters\u001b[49m\u001b[38;5;241;43m.\u001b[39;49m\u001b[43mwrite_csv_rows\u001b[49m\u001b[43m(\u001b[49m\n\u001b[0;32m    316\u001b[0m \u001b[43m    \u001b[49m\u001b[43mdata\u001b[49m\u001b[43m,\u001b[49m\n\u001b[0;32m    317\u001b[0m \u001b[43m    \u001b[49m\u001b[43mix\u001b[49m\u001b[43m,\u001b[49m\n\u001b[0;32m    318\u001b[0m \u001b[43m    \u001b[49m\u001b[38;5;28;43mself\u001b[39;49m\u001b[38;5;241;43m.\u001b[39;49m\u001b[43mnlevels\u001b[49m\u001b[43m,\u001b[49m\n\u001b[0;32m    319\u001b[0m \u001b[43m    \u001b[49m\u001b[38;5;28;43mself\u001b[39;49m\u001b[38;5;241;43m.\u001b[39;49m\u001b[43mcols\u001b[49m\u001b[43m,\u001b[49m\n\u001b[0;32m    320\u001b[0m \u001b[43m    \u001b[49m\u001b[38;5;28;43mself\u001b[39;49m\u001b[38;5;241;43m.\u001b[39;49m\u001b[43mwriter\u001b[49m\u001b[43m,\u001b[49m\n\u001b[0;32m    321\u001b[0m \u001b[43m\u001b[49m\u001b[43m)\u001b[49m\n",
      "File \u001b[1;32mc:\\Users\\Zade\\Desktop\\PythonStuff\\adDetection\\.conda\\lib\\site-packages\\pandas\\_libs\\writers.pyx:55\u001b[0m, in \u001b[0;36mpandas._libs.writers.write_csv_rows\u001b[1;34m()\u001b[0m\n",
      "\u001b[1;31mKeyboardInterrupt\u001b[0m: "
     ]
    }
   ],
   "source": [
    "X_ldf.to_csv(\"../datasets/X_full_transformed.csv\")\n",
    "y_ldf.to_csv(\"../datasets/y_full_transformed.csv\")"
   ]
  },
  {
   "cell_type": "code",
   "execution_count": null,
   "metadata": {},
   "outputs": [],
   "source": []
  },
  {
   "cell_type": "code",
   "execution_count": null,
   "metadata": {},
   "outputs": [],
   "source": []
  },
  {
   "cell_type": "code",
   "execution_count": null,
   "metadata": {},
   "outputs": [],
   "source": [
    "logged_model = fr'..\\mlartifacts\\195007525428604903\\ba343cbdaab14715b5cfaca1cf67477b\\artifacts\\model'\n",
    "\n",
    "# Load model as a PyFuncModel.\n",
    "loaded_model = mlflow.pyfunc.load_model(logged_model)"
   ]
  },
  {
   "cell_type": "code",
   "execution_count": null,
   "metadata": {},
   "outputs": [],
   "source": [
    "preds = loaded_model.predict(X_ldf)"
   ]
  },
  {
   "cell_type": "code",
   "execution_count": null,
   "metadata": {},
   "outputs": [],
   "source": [
    "auc_score = roc_auc_score(y_ldf, preds)\n",
    "class_labels = (preds >= 0.5).astype(int)\n",
    "tn, fp, fn, tp = confusion_matrix(y_ldf, class_labels).ravel()"
   ]
  },
  {
   "cell_type": "code",
   "execution_count": null,
   "metadata": {},
   "outputs": [
    {
     "name": "stdout",
     "output_type": "stream",
     "text": [
      "0.4127315810590817 643973 3967119 1544 9961\n"
     ]
    }
   ],
   "source": [
    "print(auc_score, tn, fp, fn, tp)"
   ]
  },
  {
   "cell_type": "markdown",
   "metadata": {},
   "source": [
    "mlflow setup"
   ]
  },
  {
   "cell_type": "code",
   "execution_count": 2,
   "metadata": {},
   "outputs": [],
   "source": [
    "tracking_uri = fr\"http://127.0.0.1:8080\"\n",
    "metric_name = \"auc\""
   ]
  },
  {
   "cell_type": "code",
   "execution_count": 3,
   "metadata": {},
   "outputs": [],
   "source": [
    "mlflow.set_tracking_uri(tracking_uri)"
   ]
  },
  {
   "cell_type": "code",
   "execution_count": 4,
   "metadata": {},
   "outputs": [],
   "source": [
    "X_us, y_us, test = init_datasets()"
   ]
  },
  {
   "cell_type": "code",
   "execution_count": 6,
   "metadata": {},
   "outputs": [],
   "source": [
    "X_us = add_hour_day_from_clicktime(X_us)"
   ]
  },
  {
   "cell_type": "code",
   "execution_count": 7,
   "metadata": {},
   "outputs": [],
   "source": [
    "grouping_categories = [\n",
    "    # IP with every other base\n",
    "    ['ip', 'channel'],\n",
    "    ['ip', 'device'], \n",
    "    ['ip', 'os'],\n",
    "    ['ip', 'app'],\n",
    "    # IP and time features - must be done after adding time features\n",
    "    ['ip', 'day', 'hour'],\n",
    "    # Perhaps IP isn't as important\n",
    "    ['app', 'channel'],\n",
    "    # Triplet(s)\n",
    "    ['ip', 'app', 'os'],\n",
    "    # Quartet(s)\n",
    "    ['ip', 'device', 'os', 'app']\n",
    "    # Exclude all 5 together as these will be used for grouping\n",
    "]\n",
    "grouping_functions = ['nunique', 'cumcount']"
   ]
  },
  {
   "cell_type": "code",
   "execution_count": 8,
   "metadata": {},
   "outputs": [],
   "source": [
    "X_us = add_groupby_user_features(X_us, grouping_categories=grouping_categories,\n",
    "                                grouping_functions=grouping_functions)"
   ]
  },
  {
   "cell_type": "code",
   "execution_count": 9,
   "metadata": {},
   "outputs": [],
   "source": [
    "X_us = add_next_click(X_us)"
   ]
  },
  {
   "cell_type": "code",
   "execution_count": 10,
   "metadata": {},
   "outputs": [
    {
     "data": {
      "text/plain": [
       "Index(['ip', 'app', 'device', 'os', 'channel', 'click_time', 'hour', 'day',\n",
       "       'ip_channel_nunique', 'ip_channel_cumcount', 'ip_device_nunique',\n",
       "       'ip_device_cumcount', 'ip_os_nunique', 'ip_os_cumcount',\n",
       "       'ip_app_nunique', 'ip_app_cumcount', 'ip_day_hour_nunique',\n",
       "       'ip_day_hour_cumcount', 'app_channel_nunique', 'app_channel_cumcount',\n",
       "       'ip_app_os_nunique', 'ip_app_os_cumcount', 'ip_device_os_app_nunique',\n",
       "       'ip_device_os_app_cumcount', 'user_hash', 'epoch_time', 'next_click'],\n",
       "      dtype='object')"
      ]
     },
     "execution_count": 10,
     "metadata": {},
     "output_type": "execute_result"
    }
   ],
   "source": [
    "X_us.columns"
   ]
  },
  {
   "cell_type": "code",
   "execution_count": 11,
   "metadata": {},
   "outputs": [],
   "source": [
    "cols_to_bin = ['next_click'] # Just bin the one for now"
   ]
  },
  {
   "cell_type": "code",
   "execution_count": 12,
   "metadata": {},
   "outputs": [
    {
     "name": "stderr",
     "output_type": "stream",
     "text": [
      "c:\\Users\\Zade\\Desktop\\PythonStuff\\adDetection\\addetectionscripts\\transforms.py:89: RuntimeWarning: divide by zero encountered in log2\n",
      "  df[col] = np.log2(1 + df[col].values).astype(int)\n",
      "c:\\Users\\Zade\\Desktop\\PythonStuff\\adDetection\\addetectionscripts\\transforms.py:89: RuntimeWarning: invalid value encountered in log2\n",
      "  df[col] = np.log2(1 + df[col].values).astype(int)\n",
      "c:\\Users\\Zade\\Desktop\\PythonStuff\\adDetection\\addetectionscripts\\transforms.py:89: RuntimeWarning: invalid value encountered in cast\n",
      "  df[col] = np.log2(1 + df[col].values).astype(int)\n"
     ]
    }
   ],
   "source": [
    "X_us = log_bin_column(X_us, cols_to_bin)"
   ]
  },
  {
   "cell_type": "code",
   "execution_count": 13,
   "metadata": {},
   "outputs": [
    {
     "data": {
      "text/plain": [
       "Index(['ip', 'app', 'device', 'os', 'channel', 'click_time', 'hour', 'day',\n",
       "       'ip_channel_nunique', 'ip_channel_cumcount', 'ip_device_nunique',\n",
       "       'ip_device_cumcount', 'ip_os_nunique', 'ip_os_cumcount',\n",
       "       'ip_app_nunique', 'ip_app_cumcount', 'ip_day_hour_nunique',\n",
       "       'ip_day_hour_cumcount', 'app_channel_nunique', 'app_channel_cumcount',\n",
       "       'ip_app_os_nunique', 'ip_app_os_cumcount', 'ip_device_os_app_nunique',\n",
       "       'ip_device_os_app_cumcount', 'user_hash', 'epoch_time', 'next_click'],\n",
       "      dtype='object')"
      ]
     },
     "execution_count": 13,
     "metadata": {},
     "output_type": "execute_result"
    }
   ],
   "source": [
    "X_us.columns"
   ]
  },
  {
   "cell_type": "code",
   "execution_count": 14,
   "metadata": {},
   "outputs": [],
   "source": [
    "# Drop the original click_time feature\n",
    "X_us.drop(columns=['click_time'], inplace=True)"
   ]
  },
  {
   "cell_type": "code",
   "execution_count": 15,
   "metadata": {},
   "outputs": [
    {
     "data": {
      "text/plain": [
       "Index(['ip', 'app', 'device', 'os', 'channel', 'hour', 'day',\n",
       "       'ip_channel_nunique', 'ip_channel_cumcount', 'ip_device_nunique',\n",
       "       'ip_device_cumcount', 'ip_os_nunique', 'ip_os_cumcount',\n",
       "       'ip_app_nunique', 'ip_app_cumcount', 'ip_day_hour_nunique',\n",
       "       'ip_day_hour_cumcount', 'app_channel_nunique', 'app_channel_cumcount',\n",
       "       'ip_app_os_nunique', 'ip_app_os_cumcount', 'ip_device_os_app_nunique',\n",
       "       'ip_device_os_app_cumcount', 'user_hash', 'epoch_time', 'next_click'],\n",
       "      dtype='object')"
      ]
     },
     "execution_count": 15,
     "metadata": {},
     "output_type": "execute_result"
    }
   ],
   "source": [
    "X_us.columns"
   ]
  },
  {
   "cell_type": "code",
   "execution_count": 17,
   "metadata": {},
   "outputs": [
    {
     "data": {
      "image/png": "[encoded data removed]",
      "text/plain": [
       "<Figure size 1200x800 with 1 Axes>"
      ]
     },
     "execution_count": 17,
     "metadata": {},
     "output_type": "execute_result"
    }
   ],
   "source": [
    "# correlation plot for mlflow\n",
    "plot_correlation(X_us, y_us, target_col='is_attributed', save_path='test_corr_plot.png')"
   ]
  },
  {
   "cell_type": "code",
   "execution_count": 18,
   "metadata": {},
   "outputs": [],
   "source": [
    "testing_plot = plot_correlation(X_us, y_us, target_col='is_attributed')"
   ]
  },
  {
   "cell_type": "code",
   "execution_count": 19,
   "metadata": {},
   "outputs": [
    {
     "data": {
      "text/plain": [
       "matplotlib.figure.Figure"
      ]
     },
     "execution_count": 19,
     "metadata": {},
     "output_type": "execute_result"
    }
   ],
   "source": [
    "type(testing_plot)"
   ]
  },
  {
   "cell_type": "code",
   "execution_count": 20,
   "metadata": {},
   "outputs": [
    {
     "data": {
      "text/plain": [
       "Index(['ip', 'app', 'device', 'os', 'channel', 'hour', 'day',\n",
       "       'ip_channel_nunique', 'ip_channel_cumcount', 'ip_device_nunique',\n",
       "       'ip_device_cumcount', 'ip_os_nunique', 'ip_os_cumcount',\n",
       "       'ip_app_nunique', 'ip_app_cumcount', 'ip_day_hour_nunique',\n",
       "       'ip_day_hour_cumcount', 'app_channel_nunique', 'app_channel_cumcount',\n",
       "       'ip_app_os_nunique', 'ip_app_os_cumcount', 'ip_device_os_app_nunique',\n",
       "       'ip_device_os_app_cumcount', 'user_hash', 'epoch_time', 'next_click'],\n",
       "      dtype='object')"
      ]
     },
     "execution_count": 20,
     "metadata": {},
     "output_type": "execute_result"
    }
   ],
   "source": [
    "X_us.columns"
   ]
  },
  {
   "cell_type": "code",
   "execution_count": null,
   "metadata": {},
   "outputs": [],
   "source": []
  },
  {
   "cell_type": "code",
   "execution_count": 22,
   "metadata": {},
   "outputs": [],
   "source": [
    "# mlflow server --host 127.0.0.1 --port 8080 \n",
    "experiment_id = get_or_create_experiment(\"Attributed Class 2.\")"
   ]
  },
  {
   "cell_type": "code",
   "execution_count": 23,
   "metadata": {},
   "outputs": [
    {
     "data": {
      "text/plain": [
       "'220429662594693156'"
      ]
     },
     "execution_count": 23,
     "metadata": {},
     "output_type": "execute_result"
    }
   ],
   "source": [
    "experiment_id"
   ]
  },
  {
   "cell_type": "markdown",
   "metadata": {},
   "source": [
    "Do an XGBoost model first"
   ]
  },
  {
   "cell_type": "code",
   "execution_count": 24,
   "metadata": {},
   "outputs": [
    {
     "data": {
      "text/plain": [
       "<Experiment: artifact_location='mlflow-artifacts:/220429662594693156', creation_time=1716923831324, experiment_id='220429662594693156', last_update_time=1716923831324, lifecycle_stage='active', name='Attributed Class 2.', tags={}>"
      ]
     },
     "execution_count": 24,
     "metadata": {},
     "output_type": "execute_result"
    }
   ],
   "source": [
    "mlflow.set_experiment(experiment_id=experiment_id)"
   ]
  },
  {
   "cell_type": "code",
   "execution_count": 25,
   "metadata": {},
   "outputs": [],
   "source": [
    "test_size = 0.2\n",
    "X_train, X_val, y_train, y_val = train_test_split(X_us, y_us, test_size=test_size, random_state=1233)"
   ]
  },
  {
   "cell_type": "code",
   "execution_count": 26,
   "metadata": {},
   "outputs": [],
   "source": [
    "# Set to Dmatrix format for training speed\n",
    "dtrain = xgb.DMatrix(X_train, label=y_train)\n",
    "dvalid = xgb.DMatrix(X_val, label=y_val)"
   ]
  },
  {
   "cell_type": "code",
   "execution_count": 27,
   "metadata": {},
   "outputs": [],
   "source": [
    "# Set optuna to log only errors\n",
    "optuna.logging.set_verbosity(optuna.logging.ERROR)"
   ]
  },
  {
   "cell_type": "code",
   "execution_count": 29,
   "metadata": {},
   "outputs": [],
   "source": [
    "# Run name for mlflow logging\n",
    "run_name = \"first_attempt\""
   ]
  },
  {
   "cell_type": "code",
   "execution_count": 34,
   "metadata": {},
   "outputs": [],
   "source": [
    "class OptunaXGBoost:\n",
    "    def __init__(self, run_name: str, X_train: pd.DataFrame, y_train: pd.Series, X_valid: pd.DataFrame, y_valid: pd.Series,\n",
    "                 feature_set_version: str, experiment_name: str = 'Attributed Class.', dtrain: Optional[xgb.DMatrix] = None,\n",
    "                 dvalid: Optional[xgb.DMatrix] = None, num_trials: int = 50, tracking_uri: str = r'http://127.0.0.1:8080'):\n",
    "        \"\"\"\n",
    "        Initialize the OptunaXGBoost class.\n",
    "\n",
    "        Args:\n",
    "            run_name (str): Name of the MLflow run.\n",
    "            X_train (pd.DataFrame): Training input features.\n",
    "            y_train (pd.Series): Training target variable.\n",
    "            X_valid (pd.DataFrame): Validation input features.\n",
    "            y_valid (pd.Series): Validation target variable.\n",
    "            feature_set_version (str): Version of the feature set.\n",
    "            experiment_name (str, optional): Name of the MLflow experiment. Defaults to 'Attributed Class.'.\n",
    "            dtrain (Optional[xgb.DMatrix], optional): Training DMatrix. Defaults to None.\n",
    "            dvalid (Optional[xgb.DMatrix], optional): Validation DMatrix. Defaults to None.\n",
    "            num_trials (int, optional): Number of optimization trials. Defaults to 50.\n",
    "            tracking_uri (str, optional): URI of the MLflow tracking server. Defaults to 'http://127.0.0.1:8080'.\n",
    "        \"\"\"\n",
    "        self.run_name = run_name\n",
    "        self.feature_set_version = feature_set_version\n",
    "        self.num_trials = num_trials\n",
    "        self.X_train = X_train\n",
    "        self.y_train = y_train\n",
    "        self.X_valid = X_valid\n",
    "        self.y_valid = y_valid\n",
    "        if dtrain is None:\n",
    "            self.dtrain = xgb.DMatrix(self.X_train, label=self.y_train)\n",
    "        else:\n",
    "            self.dtrain = dtrain\n",
    "        if dvalid is None:\n",
    "            self.dvalid = xgb.DMatrix(self.X_valid, label=self.y_valid)\n",
    "        else:\n",
    "            self.dvalid = dvalid\n",
    "            \n",
    "        self.tracking_uri = tracking_uri\n",
    "        mlflow.set_tracking_uri(self.tracking_uri) ## Done in config when put to prod\n",
    "        self.experiment_id = get_or_create_experiment(experiment_name)\n",
    "        mlflow.set_experiment(experiment_id=self.experiment_id)\n",
    "\n",
    "\n",
    "    def get_params(self, trial: Trial, param_config: Dict):\n",
    "        params = {}\n",
    "        for param, (ptype, *args) in param_config.items():\n",
    "            if ptype == \"categorical\":\n",
    "                params[param] = trial.suggest_categorical(param, args[0])\n",
    "            elif ptype == \"float\":\n",
    "                if len(args) == 3 and args[2] == \"log\":\n",
    "                    params[param] = trial.suggest_float(param, args[0], args[1], log=True)\n",
    "                else:\n",
    "                    params[param] = trial.suggest_float(param, args[0], args[1])\n",
    "            elif ptype == \"int\":\n",
    "                params[param] = trial.suggest_int(param, args[0], args[1])\n",
    "        return params\n",
    "\n",
    "\n",
    "    def objective(self, trial: Trial, config: Dict) -> float:\n",
    "        \"\"\"\n",
    "        Objective function for XGBoost hyperparameter optimization.\n",
    "\n",
    "        Args:\n",
    "            trial (optuna.trial.Trial): A trial object used to explore the search space.\n",
    "            config (Dict): Dictonary containing the params for our trial\n",
    "\n",
    "        Returns:\n",
    "            float: The ROC AUC score on the validation set.\n",
    "        \"\"\"\n",
    "        with mlflow.start_run(nested=True):\n",
    "            params = self.get_params(trial, config.get('xgb_params', {}))\n",
    "            \n",
    "            bst = xgb.train(params, self.dtrain)\n",
    "            preds = bst.predict(self.dvalid)\n",
    "            auc_score = roc_auc_score(self.y_valid, preds)\n",
    "            \n",
    "            # Log to mlflow\n",
    "            mlflow.log_params(params)\n",
    "            mlflow.log_metric('auc', auc_score)\n",
    "        return auc_score\n",
    "\n",
    "    def best_trial_callback(self, study: Study, frozen_trial: FrozenTrial) -> None:\n",
    "        \"\"\"\n",
    "        Logging callback that reports when a new trial iteration improves upon existing\n",
    "        best trial values.\n",
    "\n",
    "        Note: This callback is not intended for use in distributed computing systems such as Spark\n",
    "        or Ray due to the micro-batch iterative implementation for distributing trials to a cluster's\n",
    "        workers or agents.\n",
    "        The race conditions with file system state management for distributed trials will render\n",
    "        inconsistent values with this callback.\n",
    "\n",
    "        Args:\n",
    "            study (optuna.study.Study): The study object.\n",
    "            frozen_trial (optuna.trial.FrozenTrial): The frozen trial object.\n",
    "\n",
    "        Returns:\n",
    "            None\n",
    "        \"\"\"\n",
    "\n",
    "        winner = study.user_attrs.get(\"winner\", None)\n",
    "\n",
    "        if study.best_value and winner != study.best_value:\n",
    "            study.set_user_attr(\"winner\", study.best_value)\n",
    "            if winner:\n",
    "                improvement_percent = (abs(winner - study.best_value) / study.best_value) * 100\n",
    "                print(\n",
    "                    f\"Trial {frozen_trial.number} achieved value: {frozen_trial.value} with \"\n",
    "                    f\"{improvement_percent: .4f}% improvement\"\n",
    "                )\n",
    "            else:\n",
    "                print(f\"Initial trial {frozen_trial.number} achieved value: {frozen_trial.value}\")\n",
    "                \n",
    "    def start_mlflow_runs(self, nested: bool = True) -> None:\n",
    "        \"\"\"\n",
    "        Start MLflow runs for hyperparameter optimization.\n",
    "\n",
    "        Args:\n",
    "            nested (bool): Whether to have nested runs. Defaults to True.\n",
    "\n",
    "        Returns:\n",
    "            None\n",
    "        \"\"\"\n",
    "        with mlflow.start_run(experiment_id=self.experiment_id, run_name=self.run_name, nested=nested):\n",
    "            # Init Optuna\n",
    "            study = optuna.create_study(direction='maximize') # Want to max our AUC\n",
    "            \n",
    "            # Optimize hparams\n",
    "            study.optimize(self.objective, n_trials=self.num_trials, callbacks=[self.best_trial_callback])\n",
    "            # Log best params/score\n",
    "            mlflow.log_params(study.best_params)\n",
    "            mlflow.log_metric('best_auc', study.best_value)\n",
    "            \n",
    "            # Set log tags\n",
    "            mlflow.set_tags(\n",
    "                tags={\n",
    "                    'project': 'Ad Fraud Detection',\n",
    "                    'optimizer_engine': 'Optuna',\n",
    "                    'model_family': 'xgboost', \n",
    "                    'feature_set_version': self.feature_set_version\n",
    "                }\n",
    "            )\n",
    "            \n",
    "            # Log a fit model instance\n",
    "            model = xgb.train(study.best_params, self.dtrain)\n",
    "            \n",
    "            # Log the correlation plot\n",
    "            correlations = plot_correlation(self.X_train, self.y_train, target_col='is_attributed')\n",
    "            mlflow.log_figure(figure=correlations, artifact_file='plot_correlation.png')\n",
    "            \n",
    "            # Log feature importance plot\n",
    "            importances = plot_feature_importance(model, booster=study.best_params.get('booster'))\n",
    "            mlflow.log_figure(figure=importances, artifact_file='feature_importances.png')\n",
    "            \n",
    "            artifact_path = 'model'\n",
    "            \n",
    "            mlflow.xgboost.log_model(\n",
    "                xgb_model=model,\n",
    "                artifact_path=artifact_path,\n",
    "                input_example=self.X_train.iloc[[0]],\n",
    "                model_format='ubj',\n",
    "                metadata={'model_data_version':1}\n",
    "            )\n",
    "            \n",
    "            # Get logged model uri for loading from artifact store\n",
    "            model_uri = mlflow.get_artifact_uri(artifact_path)"
   ]
  },
  {
   "cell_type": "code",
   "execution_count": null,
   "metadata": {},
   "outputs": [],
   "source": []
  },
  {
   "cell_type": "code",
   "execution_count": null,
   "metadata": {},
   "outputs": [],
   "source": []
  },
  {
   "cell_type": "code",
   "execution_count": null,
   "metadata": {},
   "outputs": [],
   "source": []
  },
  {
   "cell_type": "code",
   "execution_count": 48,
   "metadata": {},
   "outputs": [],
   "source": [
    "def objective(trial):\n",
    "    with mlflow.start_run(nested=True):\n",
    "        # Hparams\n",
    "        params = {\n",
    "            'objective': 'binary:logistic',\n",
    "            'eval_metric': 'auc',\n",
    "            'booster': trial.suggest_categorical(\"booster\", [\"gbtree\", \"dart\"]),\n",
    "            'lambda': trial.suggest_float(\"lambda\", 1e-8, 1.0, log=True),\n",
    "            'alpha': trial.suggest_float(\"alpha\", 1e-8, 1.0, log=True),\n",
    "            'max_depth': trial.suggest_int(\"max_depth\", 1, 5),\n",
    "            'eta': trial.suggest_float(\"eta\", 1e-8, 1.0, log=True),\n",
    "            'gamma': trial.suggest_float(\"gamma\", 1e-8, 1.0, log=True),\n",
    "            'grow_policy': trial.suggest_categorical(\"grow_policy\", [\"depthwise\", \"lossguide\"])\n",
    "        }\n",
    "        \n",
    "        bst = xgb.train(params, dtrain)\n",
    "        preds = bst.predict(dvalid)\n",
    "        auc_score = roc_auc_score(y_val, preds)\n",
    "    \n",
    "        # Log to mlflow\n",
    "        mlflow.log_params(params)\n",
    "        mlflow.log_metric('auc', auc_score)\n",
    "    return auc_score"
   ]
  },
  {
   "cell_type": "code",
   "execution_count": 49,
   "metadata": {},
   "outputs": [],
   "source": [
    "def champion_callback_local(study, frozen_trial):\n",
    "    \"\"\"\n",
    "    Logging callback that will report when a new trial iteration improves upon existing\n",
    "    best trial values.\n",
    "\n",
    "    Note: This callback is not intended for use in distributed computing systems such as Spark\n",
    "    or Ray due to the micro-batch iterative implementation for distributing trials to a cluster's\n",
    "    workers or agents.\n",
    "    The race conditions with file system state management for distributed trials will render\n",
    "    inconsistent values with this callback.\n",
    "    \"\"\"\n",
    "\n",
    "    winner = study.user_attrs.get(\"winner\", None)\n",
    "\n",
    "    if study.best_value and winner != study.best_value:\n",
    "        study.set_user_attr(\"winner\", study.best_value)\n",
    "        if winner:\n",
    "            improvement_percent = (abs(winner - study.best_value) / study.best_value) * 100\n",
    "            print(\n",
    "                f\"Trial {frozen_trial.number} achieved value: {frozen_trial.value} with \"\n",
    "                f\"{improvement_percent: .4f}% improvement\"\n",
    "            )\n",
    "        else:\n",
    "            print(f\"Initial trial {frozen_trial.number} achieved value: {frozen_trial.value}\")"
   ]
  },
  {
   "cell_type": "code",
   "execution_count": 51,
   "metadata": {},
   "outputs": [
    {
     "name": "stdout",
     "output_type": "stream",
     "text": [
      "Initial trial 0 achieved value: 0.933513392719326\n",
      "Trial 3 achieved value: 0.9829992039700839 with  5.0342% improvement\n",
      "Trial 6 achieved value: 0.9837393958321861 with  0.0752% improvement\n",
      "Trial 12 achieved value: 0.9847031598970731 with  0.0979% improvement\n",
      "Trial 16 achieved value: 0.9993300773322568 with  1.4637% improvement\n",
      "Trial 18 achieved value: 0.9995605487807298 with  0.0231% improvement\n",
      "Trial 42 achieved value: 0.999653506313402 with  0.0093% improvement\n"
     ]
    },
    {
     "name": "stderr",
     "output_type": "stream",
     "text": [
      "c:\\Users\\Zade\\Desktop\\PythonStuff\\adDetection\\.conda\\lib\\site-packages\\mlflow\\types\\utils.py:394: UserWarning: Hint: Inferred schema contains integer column(s). Integer columns in Python cannot represent missing values. If your input data contains missing values at inference time, it will be encoded as floats and will cause a schema enforcement error. The best way to avoid this problem is to infer the model schema based on a realistic data sample (training dataset) that includes missing values. Alternatively, you can declare integer columns as doubles (float64) whenever these columns may have missing values. See `Handling Integers With Missing Values <https://www.mlflow.org/docs/latest/models.html#handling-integers-with-missing-values>`_ for more details.\n",
      "  warnings.warn(\n"
     ]
    }
   ],
   "source": [
    "with mlflow.start_run(experiment_id=experiment_id, run_name=run_name, nested=True):\n",
    "    # Init Optuna\n",
    "    study = optuna.create_study(direction='maximize') # Want to max our AUC\n",
    "    \n",
    "    # Optimize hparams\n",
    "    study.optimize(objective, n_trials=50, callbacks=[champion_callback_local])\n",
    "    \n",
    "    # Log best params/score\n",
    "    mlflow.log_params(study.best_params)\n",
    "    mlflow.log_metric('best_auc', study.best_value)\n",
    "    \n",
    "    # Set log tags\n",
    "    mlflow.set_tags(\n",
    "        tags={\n",
    "            'project': 'Ad Fraud Detection',\n",
    "            'optimizer_engine': 'Optuna',\n",
    "            'model_family': 'xgboost', \n",
    "            'feature_set_version': 2\n",
    "        }\n",
    "    )\n",
    "    \n",
    "    # Log a fit model instance\n",
    "    model = xgb.train(study.best_params, dtrain)\n",
    "    \n",
    "    # Log the correlation plot\n",
    "    correlations = plot_correlation(X_us, y_us, target_col='is_attributed')\n",
    "    mlflow.log_figure(figure=correlations, artifact_file='plot_correlation.png')\n",
    "    \n",
    "    # Log feature importance plot\n",
    "    importances = plot_feature_importance(model, booster=study.best_params.get('booster'))\n",
    "    mlflow.log_figure(figure=importances, artifact_file='feature_importances.png')\n",
    "    \n",
    "    artifact_path = 'model'\n",
    "    \n",
    "    mlflow.xgboost.log_model(\n",
    "        xgb_model=model,\n",
    "        artifact_path=artifact_path,\n",
    "        input_example=X_train.iloc[[0]],\n",
    "        model_format='ubj',\n",
    "        metadata={'model_data_version':1}\n",
    "    )\n",
    "    \n",
    "    # Get logged model uri for loading from artifact store\n",
    "    model_uri = mlflow.get_artifact_uri(artifact_path)"
   ]
  },
  {
   "cell_type": "code",
   "execution_count": null,
   "metadata": {},
   "outputs": [],
   "source": []
  }
 ],
 "metadata": {
  "kernelspec": {
   "display_name": "Python 3",
   "language": "python",
   "name": "python3"
  },
  "language_info": {
   "codemirror_mode": {
    "name": "ipython",
    "version": 3
   },
   "file_extension": ".py",
   "mimetype": "text/x-python",
   "name": "python",
   "nbconvert_exporter": "python",
   "pygments_lexer": "ipython3",
   "version": "3.10.14"
  }
 },
 "nbformat": 4,
 "nbformat_minor": 2
}
